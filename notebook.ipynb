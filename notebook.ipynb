{
 "cells": [
  {
   "cell_type": "markdown",
   "id": "d490172c",
   "metadata": {},
   "source": [
    "<b>Contexto:</b>\n",
    "\n",
    "Desenvolver uma análise utilizando a metodologia CRISP-DM, confrontar métricas de problemas de classificação para fins de comparação da performance entre modelos de previsão baseados em arvorê de decisão, utilizando diferentes técnicas de preparação de dados com o intuito de prever transações fraudulentas em uma instituição financeira."
   ]
  },
  {
   "cell_type": "code",
   "execution_count": 1,
   "id": "9b75d775",
   "metadata": {},
   "outputs": [],
   "source": [
    "#Bibliotecas \n",
    "\n",
    "import pandas as pd\n",
    "import numpy as np\n",
    "import matplotlib.pyplot as plt\n",
    "import seaborn as sns\n",
    "from sklearn.preprocessing import LabelEncoder\n",
    "from statsmodels.stats.outliers_influence import variance_inflation_factor\n",
    "from sklearn.preprocessing import StandardScaler\n",
    "from sklearn.model_selection import train_test_split\n",
    "from sklearn.ensemble import RandomForestClassifier\n",
    "from sklearn.tree import DecisionTreeClassifier\n",
    "import xgboost as xgb  #pip install xgboost\n",
    "from sklearn.metrics import classification_report, confusion_matrix, ConfusionMatrixDisplay\n",
    "import sklearn.metrics as metrics\n",
    "from sklearn.decomposition import PCA\n",
    "from sklearn.model_selection import KFold"
   ]
  },
  {
   "cell_type": "code",
   "execution_count": 2,
   "id": "1642bca4",
   "metadata": {},
   "outputs": [],
   "source": [
    "pd.set_option('display.float_format', lambda x: '%.2f' % x)"
   ]
  },
  {
   "cell_type": "code",
   "execution_count": 3,
   "id": "87a80843",
   "metadata": {},
   "outputs": [],
   "source": [
    "#Leitura dos dados\n",
    "\n",
    "df = pd.read_csv('Fraud.csv')"
   ]
  },
  {
   "cell_type": "markdown",
   "id": "40f75dbf",
   "metadata": {},
   "source": [
    "### DATA UNDERSTANDING "
   ]
  },
  {
   "cell_type": "markdown",
   "id": "85ebe6df",
   "metadata": {},
   "source": [
    "<b>Data Dictionary:</b>\n",
    "\n",
    "step - maps a unit of time in the real world. In this case 1 step is 1 hour of time. Total steps 744 (30 days simulation).\n",
    "\n",
    "type - CASH-IN, CASH-OUT, DEBIT, PAYMENT and TRANSFER.\n",
    "\n",
    "amount - amount of the transaction in local currency.\n",
    "\n",
    "nameOrig - customer who started the transaction\n",
    "\n",
    "oldbalanceOrg - initial balance before the transaction\n",
    "\n",
    "newbalanceOrig - new balance after the transaction\n",
    "\n",
    "nameDest - customer who is the recipient of the transaction\n",
    "\n",
    "oldbalanceDest - initial balance recipient before the transaction. Note that there is not information for customers that start with M (Merchants).\n",
    "\n",
    "newbalanceDest - new balance recipient after the transaction. Note that there is not information for customers that start with M (Merchants).\n",
    "\n",
    "isFraud - This is the transactions made by the fraudulent agents inside the simulation. In this specific dataset the fraudulent behavior of the agents aims to profit by taking control or customers accounts and try to empty the funds by transferring to another account and then cashing out of the system.\n",
    "\n",
    "isFlaggedFraud - The business model aims to control massive transfers from one account to another and flags illegal attempts. An illegal attempt in this dataset is an attempt to transfer more than 200.000 in a single transaction."
   ]
  },
  {
   "cell_type": "code",
   "execution_count": 4,
   "id": "2d0e7a98",
   "metadata": {},
   "outputs": [
    {
     "data": {
      "text/plain": [
       "(6362620, 11)"
      ]
     },
     "execution_count": 4,
     "metadata": {},
     "output_type": "execute_result"
    }
   ],
   "source": [
    "df.shape"
   ]
  },
  {
   "cell_type": "code",
   "execution_count": 5,
   "id": "829e7ccf",
   "metadata": {},
   "outputs": [
    {
     "data": {
      "text/html": [
       "<div>\n",
       "<style scoped>\n",
       "    .dataframe tbody tr th:only-of-type {\n",
       "        vertical-align: middle;\n",
       "    }\n",
       "\n",
       "    .dataframe tbody tr th {\n",
       "        vertical-align: top;\n",
       "    }\n",
       "\n",
       "    .dataframe thead th {\n",
       "        text-align: right;\n",
       "    }\n",
       "</style>\n",
       "<table border=\"1\" class=\"dataframe\">\n",
       "  <thead>\n",
       "    <tr style=\"text-align: right;\">\n",
       "      <th></th>\n",
       "      <th>step</th>\n",
       "      <th>type</th>\n",
       "      <th>amount</th>\n",
       "      <th>nameOrig</th>\n",
       "      <th>oldbalanceOrg</th>\n",
       "      <th>newbalanceOrig</th>\n",
       "      <th>nameDest</th>\n",
       "      <th>oldbalanceDest</th>\n",
       "      <th>newbalanceDest</th>\n",
       "      <th>isFraud</th>\n",
       "      <th>isFlaggedFraud</th>\n",
       "    </tr>\n",
       "  </thead>\n",
       "  <tbody>\n",
       "    <tr>\n",
       "      <th>4857456</th>\n",
       "      <td>348</td>\n",
       "      <td>CASH_OUT</td>\n",
       "      <td>340846.45</td>\n",
       "      <td>C1589875807</td>\n",
       "      <td>1055.00</td>\n",
       "      <td>0.00</td>\n",
       "      <td>C1592912196</td>\n",
       "      <td>105861.82</td>\n",
       "      <td>446708.27</td>\n",
       "      <td>0</td>\n",
       "      <td>0</td>\n",
       "    </tr>\n",
       "    <tr>\n",
       "      <th>6166048</th>\n",
       "      <td>551</td>\n",
       "      <td>CASH_IN</td>\n",
       "      <td>54741.53</td>\n",
       "      <td>C1752698594</td>\n",
       "      <td>3889282.56</td>\n",
       "      <td>3944024.09</td>\n",
       "      <td>C79337380</td>\n",
       "      <td>2767241.35</td>\n",
       "      <td>2712499.82</td>\n",
       "      <td>0</td>\n",
       "      <td>0</td>\n",
       "    </tr>\n",
       "    <tr>\n",
       "      <th>4994985</th>\n",
       "      <td>352</td>\n",
       "      <td>CASH_OUT</td>\n",
       "      <td>233485.20</td>\n",
       "      <td>C312194612</td>\n",
       "      <td>0.00</td>\n",
       "      <td>0.00</td>\n",
       "      <td>C1312736521</td>\n",
       "      <td>3387579.80</td>\n",
       "      <td>3621065.01</td>\n",
       "      <td>0</td>\n",
       "      <td>0</td>\n",
       "    </tr>\n",
       "    <tr>\n",
       "      <th>4211347</th>\n",
       "      <td>305</td>\n",
       "      <td>TRANSFER</td>\n",
       "      <td>909478.68</td>\n",
       "      <td>C1960882421</td>\n",
       "      <td>0.00</td>\n",
       "      <td>0.00</td>\n",
       "      <td>C1326706032</td>\n",
       "      <td>20000000.00</td>\n",
       "      <td>20909478.68</td>\n",
       "      <td>0</td>\n",
       "      <td>0</td>\n",
       "    </tr>\n",
       "    <tr>\n",
       "      <th>434765</th>\n",
       "      <td>18</td>\n",
       "      <td>PAYMENT</td>\n",
       "      <td>3747.37</td>\n",
       "      <td>C1232444262</td>\n",
       "      <td>127424.31</td>\n",
       "      <td>123676.94</td>\n",
       "      <td>M749467313</td>\n",
       "      <td>0.00</td>\n",
       "      <td>0.00</td>\n",
       "      <td>0</td>\n",
       "      <td>0</td>\n",
       "    </tr>\n",
       "    <tr>\n",
       "      <th>4053959</th>\n",
       "      <td>300</td>\n",
       "      <td>CASH_IN</td>\n",
       "      <td>296094.73</td>\n",
       "      <td>C236540496</td>\n",
       "      <td>3453359.41</td>\n",
       "      <td>3749454.14</td>\n",
       "      <td>C839625049</td>\n",
       "      <td>2113510.95</td>\n",
       "      <td>1817416.22</td>\n",
       "      <td>0</td>\n",
       "      <td>0</td>\n",
       "    </tr>\n",
       "    <tr>\n",
       "      <th>6043518</th>\n",
       "      <td>490</td>\n",
       "      <td>CASH_IN</td>\n",
       "      <td>182854.90</td>\n",
       "      <td>C1554845208</td>\n",
       "      <td>2278571.31</td>\n",
       "      <td>2461426.21</td>\n",
       "      <td>C460234161</td>\n",
       "      <td>629657.10</td>\n",
       "      <td>446802.20</td>\n",
       "      <td>0</td>\n",
       "      <td>0</td>\n",
       "    </tr>\n",
       "    <tr>\n",
       "      <th>5447625</th>\n",
       "      <td>379</td>\n",
       "      <td>CASH_IN</td>\n",
       "      <td>90442.31</td>\n",
       "      <td>C1784724587</td>\n",
       "      <td>701665.95</td>\n",
       "      <td>792108.25</td>\n",
       "      <td>C1235245848</td>\n",
       "      <td>126905.39</td>\n",
       "      <td>36463.09</td>\n",
       "      <td>0</td>\n",
       "      <td>0</td>\n",
       "    </tr>\n",
       "    <tr>\n",
       "      <th>1083883</th>\n",
       "      <td>129</td>\n",
       "      <td>CASH_OUT</td>\n",
       "      <td>388193.88</td>\n",
       "      <td>C591499075</td>\n",
       "      <td>140625.00</td>\n",
       "      <td>0.00</td>\n",
       "      <td>C2126755176</td>\n",
       "      <td>104435.03</td>\n",
       "      <td>492628.91</td>\n",
       "      <td>0</td>\n",
       "      <td>0</td>\n",
       "    </tr>\n",
       "    <tr>\n",
       "      <th>6244188</th>\n",
       "      <td>595</td>\n",
       "      <td>CASH_IN</td>\n",
       "      <td>291794.51</td>\n",
       "      <td>C469776035</td>\n",
       "      <td>4091549.87</td>\n",
       "      <td>4383344.37</td>\n",
       "      <td>C263124</td>\n",
       "      <td>16471691.72</td>\n",
       "      <td>16179897.22</td>\n",
       "      <td>0</td>\n",
       "      <td>0</td>\n",
       "    </tr>\n",
       "  </tbody>\n",
       "</table>\n",
       "</div>"
      ],
      "text/plain": [
       "         step      type    amount     nameOrig  oldbalanceOrg  newbalanceOrig  \\\n",
       "4857456   348  CASH_OUT 340846.45  C1589875807        1055.00            0.00   \n",
       "6166048   551   CASH_IN  54741.53  C1752698594     3889282.56      3944024.09   \n",
       "4994985   352  CASH_OUT 233485.20   C312194612           0.00            0.00   \n",
       "4211347   305  TRANSFER 909478.68  C1960882421           0.00            0.00   \n",
       "434765     18   PAYMENT   3747.37  C1232444262      127424.31       123676.94   \n",
       "4053959   300   CASH_IN 296094.73   C236540496     3453359.41      3749454.14   \n",
       "6043518   490   CASH_IN 182854.90  C1554845208     2278571.31      2461426.21   \n",
       "5447625   379   CASH_IN  90442.31  C1784724587      701665.95       792108.25   \n",
       "1083883   129  CASH_OUT 388193.88   C591499075      140625.00            0.00   \n",
       "6244188   595   CASH_IN 291794.51   C469776035     4091549.87      4383344.37   \n",
       "\n",
       "            nameDest  oldbalanceDest  newbalanceDest  isFraud  isFlaggedFraud  \n",
       "4857456  C1592912196       105861.82       446708.27        0               0  \n",
       "6166048    C79337380      2767241.35      2712499.82        0               0  \n",
       "4994985  C1312736521      3387579.80      3621065.01        0               0  \n",
       "4211347  C1326706032     20000000.00     20909478.68        0               0  \n",
       "434765    M749467313            0.00            0.00        0               0  \n",
       "4053959   C839625049      2113510.95      1817416.22        0               0  \n",
       "6043518   C460234161       629657.10       446802.20        0               0  \n",
       "5447625  C1235245848       126905.39        36463.09        0               0  \n",
       "1083883  C2126755176       104435.03       492628.91        0               0  \n",
       "6244188      C263124     16471691.72     16179897.22        0               0  "
      ]
     },
     "execution_count": 5,
     "metadata": {},
     "output_type": "execute_result"
    }
   ],
   "source": [
    "df.sample(10)"
   ]
  },
  {
   "cell_type": "code",
   "execution_count": 6,
   "id": "945f7cc5",
   "metadata": {},
   "outputs": [
    {
     "name": "stdout",
     "output_type": "stream",
     "text": [
      "<class 'pandas.core.frame.DataFrame'>\n",
      "RangeIndex: 6362620 entries, 0 to 6362619\n",
      "Data columns (total 11 columns):\n",
      " #   Column          Dtype  \n",
      "---  ------          -----  \n",
      " 0   step            int64  \n",
      " 1   type            object \n",
      " 2   amount          float64\n",
      " 3   nameOrig        object \n",
      " 4   oldbalanceOrg   float64\n",
      " 5   newbalanceOrig  float64\n",
      " 6   nameDest        object \n",
      " 7   oldbalanceDest  float64\n",
      " 8   newbalanceDest  float64\n",
      " 9   isFraud         int64  \n",
      " 10  isFlaggedFraud  int64  \n",
      "dtypes: float64(5), int64(3), object(3)\n",
      "memory usage: 534.0+ MB\n"
     ]
    }
   ],
   "source": [
    "df.info()"
   ]
  },
  {
   "cell_type": "code",
   "execution_count": 7,
   "id": "92b728e5",
   "metadata": {},
   "outputs": [
    {
     "data": {
      "text/plain": [
       "step              0\n",
       "type              0\n",
       "amount            0\n",
       "nameOrig          0\n",
       "oldbalanceOrg     0\n",
       "newbalanceOrig    0\n",
       "nameDest          0\n",
       "oldbalanceDest    0\n",
       "newbalanceDest    0\n",
       "isFraud           0\n",
       "isFlaggedFraud    0\n",
       "dtype: int64"
      ]
     },
     "execution_count": 7,
     "metadata": {},
     "output_type": "execute_result"
    }
   ],
   "source": [
    "df.isnull().sum()"
   ]
  },
  {
   "cell_type": "markdown",
   "id": "ac4464a8",
   "metadata": {},
   "source": [
    "Obs: Dataset sem valores nulos"
   ]
  },
  {
   "cell_type": "code",
   "execution_count": 8,
   "id": "89923be6",
   "metadata": {},
   "outputs": [
    {
     "data": {
      "text/plain": [
       "<AxesSubplot:>"
      ]
     },
     "execution_count": 8,
     "metadata": {},
     "output_type": "execute_result"
    },
    {
     "data": {
      "image/png": "[encoded data removed]",
      "text/plain": [
       "<Figure size 432x288 with 1 Axes>"
      ]
     },
     "metadata": {
      "needs_background": "light"
     },
     "output_type": "display_data"
    }
   ],
   "source": [
    "df['isFraud'].value_counts().plot(kind=\"bar\")"
   ]
  },
  {
   "cell_type": "code",
   "execution_count": 9,
   "id": "ebd73174",
   "metadata": {},
   "outputs": [
    {
     "name": "stdout",
     "output_type": "stream",
     "text": [
      "Num. de transações legítimas:  6354407\n",
      "Num. de transações fraudulentas:  8213\n",
      "% de transações legítimas: 99.8709 %\n",
      "% de transações fraudulentas: 0.1291 %\n"
     ]
    }
   ],
   "source": [
    "nfraude = len(df[df.isFraud == 0])\n",
    "fraude = len(df[df.isFraud == 1])\n",
    "\n",
    "print(\"Num. de transações legítimas: \", nfraude)\n",
    "print(\"Num. de transações fraudulentas: \", fraude)\n",
    "print(\"% de transações legítimas: {:.4f} %\".format((nfraude / (fraude + nfraude)) * 100))\n",
    "print(\"% de transações fraudulentas: {:.4f} %\".format((fraude / (fraude + nfraude)) * 100))"
   ]
  },
  {
   "cell_type": "markdown",
   "id": "2e1859f8",
   "metadata": {},
   "source": [
    "Obs: Target desbalanceada"
   ]
  },
  {
   "cell_type": "code",
   "execution_count": 10,
   "id": "2ccf6c2c",
   "metadata": {},
   "outputs": [
    {
     "data": {
      "text/plain": [
       "<AxesSubplot:>"
      ]
     },
     "execution_count": 10,
     "metadata": {},
     "output_type": "execute_result"
    },
    {
     "data": {
      "image/png": "[encoded data removed]",
      "text/plain": [
       "<Figure size 720x432 with 2 Axes>"
      ]
     },
     "metadata": {
      "needs_background": "light"
     },
     "output_type": "display_data"
    }
   ],
   "source": [
    "#Verificação de correlação\n",
    "\n",
    "correlacao = df.corr()\n",
    "plt.figure(figsize=(10,6))\n",
    "sns.heatmap(correlacao, annot=True)"
   ]
  },
  {
   "cell_type": "markdown",
   "id": "e9605639",
   "metadata": {},
   "source": [
    "Obs: Correlação forte entre \"oldbalanceOrg\" e \"newbalanceOrig\" / \"newbalanceDest\" e \"oldbalanceDest\" "
   ]
  },
  {
   "cell_type": "markdown",
   "id": "19f5e9b5",
   "metadata": {},
   "source": [
    "#### FEATURE 'amount' 'oldbalanceOrg' 'newbalanceOrig' 'oldbalanceDest' 'newbalanceDest"
   ]
  },
  {
   "cell_type": "code",
   "execution_count": 11,
   "id": "90fa73c6",
   "metadata": {},
   "outputs": [
    {
     "data": {
      "text/html": [
       "<div>\n",
       "<style scoped>\n",
       "    .dataframe tbody tr th:only-of-type {\n",
       "        vertical-align: middle;\n",
       "    }\n",
       "\n",
       "    .dataframe tbody tr th {\n",
       "        vertical-align: top;\n",
       "    }\n",
       "\n",
       "    .dataframe thead th {\n",
       "        text-align: right;\n",
       "    }\n",
       "</style>\n",
       "<table border=\"1\" class=\"dataframe\">\n",
       "  <thead>\n",
       "    <tr style=\"text-align: right;\">\n",
       "      <th></th>\n",
       "      <th>amount</th>\n",
       "      <th>oldbalanceOrg</th>\n",
       "      <th>newbalanceOrig</th>\n",
       "      <th>oldbalanceDest</th>\n",
       "      <th>newbalanceDest</th>\n",
       "    </tr>\n",
       "  </thead>\n",
       "  <tbody>\n",
       "    <tr>\n",
       "      <th>count</th>\n",
       "      <td>6362620.00</td>\n",
       "      <td>6362620.00</td>\n",
       "      <td>6362620.00</td>\n",
       "      <td>6362620.00</td>\n",
       "      <td>6362620.00</td>\n",
       "    </tr>\n",
       "    <tr>\n",
       "      <th>mean</th>\n",
       "      <td>179861.90</td>\n",
       "      <td>833883.10</td>\n",
       "      <td>855113.67</td>\n",
       "      <td>1100701.67</td>\n",
       "      <td>1224996.40</td>\n",
       "    </tr>\n",
       "    <tr>\n",
       "      <th>std</th>\n",
       "      <td>603858.23</td>\n",
       "      <td>2888242.67</td>\n",
       "      <td>2924048.50</td>\n",
       "      <td>3399180.11</td>\n",
       "      <td>3674128.94</td>\n",
       "    </tr>\n",
       "    <tr>\n",
       "      <th>min</th>\n",
       "      <td>0.00</td>\n",
       "      <td>0.00</td>\n",
       "      <td>0.00</td>\n",
       "      <td>0.00</td>\n",
       "      <td>0.00</td>\n",
       "    </tr>\n",
       "    <tr>\n",
       "      <th>25%</th>\n",
       "      <td>13389.57</td>\n",
       "      <td>0.00</td>\n",
       "      <td>0.00</td>\n",
       "      <td>0.00</td>\n",
       "      <td>0.00</td>\n",
       "    </tr>\n",
       "    <tr>\n",
       "      <th>50%</th>\n",
       "      <td>74871.94</td>\n",
       "      <td>14208.00</td>\n",
       "      <td>0.00</td>\n",
       "      <td>132705.66</td>\n",
       "      <td>214661.44</td>\n",
       "    </tr>\n",
       "    <tr>\n",
       "      <th>75%</th>\n",
       "      <td>208721.48</td>\n",
       "      <td>107315.18</td>\n",
       "      <td>144258.41</td>\n",
       "      <td>943036.71</td>\n",
       "      <td>1111909.25</td>\n",
       "    </tr>\n",
       "    <tr>\n",
       "      <th>max</th>\n",
       "      <td>92445516.64</td>\n",
       "      <td>59585040.37</td>\n",
       "      <td>49585040.37</td>\n",
       "      <td>356015889.35</td>\n",
       "      <td>356179278.92</td>\n",
       "    </tr>\n",
       "  </tbody>\n",
       "</table>\n",
       "</div>"
      ],
      "text/plain": [
       "           amount  oldbalanceOrg  newbalanceOrig  oldbalanceDest  \\\n",
       "count  6362620.00     6362620.00      6362620.00      6362620.00   \n",
       "mean    179861.90      833883.10       855113.67      1100701.67   \n",
       "std     603858.23     2888242.67      2924048.50      3399180.11   \n",
       "min          0.00           0.00            0.00            0.00   \n",
       "25%      13389.57           0.00            0.00            0.00   \n",
       "50%      74871.94       14208.00            0.00       132705.66   \n",
       "75%     208721.48      107315.18       144258.41       943036.71   \n",
       "max   92445516.64    59585040.37     49585040.37    356015889.35   \n",
       "\n",
       "       newbalanceDest  \n",
       "count      6362620.00  \n",
       "mean       1224996.40  \n",
       "std        3674128.94  \n",
       "min              0.00  \n",
       "25%              0.00  \n",
       "50%         214661.44  \n",
       "75%        1111909.25  \n",
       "max      356179278.92  "
      ]
     },
     "execution_count": 11,
     "metadata": {},
     "output_type": "execute_result"
    }
   ],
   "source": [
    "#Features quantitativas sem filtros\n",
    "\n",
    "df[['amount','oldbalanceOrg','newbalanceOrig','oldbalanceDest','newbalanceDest']].describe()"
   ]
  },
  {
   "cell_type": "code",
   "execution_count": 12,
   "id": "fa69d875",
   "metadata": {},
   "outputs": [
    {
     "data": {
      "image/png": "[encoded data removed]",
      "text/plain": [
       "<Figure size 432x288 with 1 Axes>"
      ]
     },
     "metadata": {
      "needs_background": "light"
     },
     "output_type": "display_data"
    }
   ],
   "source": [
    "ax = df[['amount','oldbalanceOrg','newbalanceOrig','oldbalanceDest','newbalanceDest']].plot(kind='box')\n",
    "plt.show()"
   ]
  },
  {
   "cell_type": "markdown",
   "id": "4e92a23e",
   "metadata": {},
   "source": [
    "Obs: Presença de outliers em todas as features"
   ]
  },
  {
   "cell_type": "code",
   "execution_count": 13,
   "id": "a07cf51d",
   "metadata": {},
   "outputs": [
    {
     "data": {
      "text/html": [
       "<div>\n",
       "<style scoped>\n",
       "    .dataframe tbody tr th:only-of-type {\n",
       "        vertical-align: middle;\n",
       "    }\n",
       "\n",
       "    .dataframe tbody tr th {\n",
       "        vertical-align: top;\n",
       "    }\n",
       "\n",
       "    .dataframe thead th {\n",
       "        text-align: right;\n",
       "    }\n",
       "</style>\n",
       "<table border=\"1\" class=\"dataframe\">\n",
       "  <thead>\n",
       "    <tr style=\"text-align: right;\">\n",
       "      <th></th>\n",
       "      <th>amount</th>\n",
       "      <th>oldbalanceOrg</th>\n",
       "      <th>newbalanceOrig</th>\n",
       "      <th>oldbalanceDest</th>\n",
       "      <th>newbalanceDest</th>\n",
       "    </tr>\n",
       "  </thead>\n",
       "  <tbody>\n",
       "    <tr>\n",
       "      <th>count</th>\n",
       "      <td>2151495.00</td>\n",
       "      <td>2151495.00</td>\n",
       "      <td>2151495.00</td>\n",
       "      <td>2151495.00</td>\n",
       "      <td>2151495.00</td>\n",
       "    </tr>\n",
       "    <tr>\n",
       "      <th>mean</th>\n",
       "      <td>13057.60</td>\n",
       "      <td>68216.83</td>\n",
       "      <td>61837.89</td>\n",
       "      <td>0.00</td>\n",
       "      <td>0.00</td>\n",
       "    </tr>\n",
       "    <tr>\n",
       "      <th>std</th>\n",
       "      <td>12556.45</td>\n",
       "      <td>198991.08</td>\n",
       "      <td>196991.52</td>\n",
       "      <td>0.00</td>\n",
       "      <td>0.00</td>\n",
       "    </tr>\n",
       "    <tr>\n",
       "      <th>min</th>\n",
       "      <td>0.02</td>\n",
       "      <td>0.00</td>\n",
       "      <td>0.00</td>\n",
       "      <td>0.00</td>\n",
       "      <td>0.00</td>\n",
       "    </tr>\n",
       "    <tr>\n",
       "      <th>25%</th>\n",
       "      <td>4383.82</td>\n",
       "      <td>0.00</td>\n",
       "      <td>0.00</td>\n",
       "      <td>0.00</td>\n",
       "      <td>0.00</td>\n",
       "    </tr>\n",
       "    <tr>\n",
       "      <th>50%</th>\n",
       "      <td>9482.19</td>\n",
       "      <td>10530.00</td>\n",
       "      <td>0.00</td>\n",
       "      <td>0.00</td>\n",
       "      <td>0.00</td>\n",
       "    </tr>\n",
       "    <tr>\n",
       "      <th>75%</th>\n",
       "      <td>17561.22</td>\n",
       "      <td>60883.00</td>\n",
       "      <td>49654.13</td>\n",
       "      <td>0.00</td>\n",
       "      <td>0.00</td>\n",
       "    </tr>\n",
       "    <tr>\n",
       "      <th>max</th>\n",
       "      <td>238637.98</td>\n",
       "      <td>43686616.33</td>\n",
       "      <td>43673802.21</td>\n",
       "      <td>0.00</td>\n",
       "      <td>0.00</td>\n",
       "    </tr>\n",
       "  </tbody>\n",
       "</table>\n",
       "</div>"
      ],
      "text/plain": [
       "          amount  oldbalanceOrg  newbalanceOrig  oldbalanceDest  \\\n",
       "count 2151495.00     2151495.00      2151495.00      2151495.00   \n",
       "mean    13057.60       68216.83        61837.89            0.00   \n",
       "std     12556.45      198991.08       196991.52            0.00   \n",
       "min         0.02           0.00            0.00            0.00   \n",
       "25%      4383.82           0.00            0.00            0.00   \n",
       "50%      9482.19       10530.00            0.00            0.00   \n",
       "75%     17561.22       60883.00        49654.13            0.00   \n",
       "max    238637.98    43686616.33     43673802.21            0.00   \n",
       "\n",
       "       newbalanceDest  \n",
       "count      2151495.00  \n",
       "mean             0.00  \n",
       "std              0.00  \n",
       "min              0.00  \n",
       "25%              0.00  \n",
       "50%              0.00  \n",
       "75%              0.00  \n",
       "max              0.00  "
      ]
     },
     "execution_count": 13,
     "metadata": {},
     "output_type": "execute_result"
    }
   ],
   "source": [
    "#Features quantitativas filtro: \"nameDest\" = merchants \n",
    "\n",
    "merchants = df[df['nameDest'].str.contains('M')]\n",
    "merchants[['amount','oldbalanceOrg','newbalanceOrig','oldbalanceDest','newbalanceDest']].describe()"
   ]
  },
  {
   "cell_type": "code",
   "execution_count": 14,
   "id": "46512ead",
   "metadata": {},
   "outputs": [
    {
     "data": {
      "image/png": "[encoded data removed]",
      "text/plain": [
       "<Figure size 432x288 with 1 Axes>"
      ]
     },
     "metadata": {
      "needs_background": "light"
     },
     "output_type": "display_data"
    }
   ],
   "source": [
    "ax = merchants[['amount','oldbalanceOrg','newbalanceOrig','oldbalanceDest','newbalanceDest']].plot(kind='box')\n",
    "plt.show()"
   ]
  },
  {
   "cell_type": "markdown",
   "id": "12801484",
   "metadata": {},
   "source": [
    "Obs: Conforme descrito no dicionário, \"nameDest\" descritos como comerciantes não possuem dados de \"oldbalanceDest\" e \"newbalanceDest\". Notei também uma diminuição no desvio padrão e na presença de outliers na feature \"amount\". Bem como diminuição do desvio padrão para as features \"oldbalanceOrg\" e \"newbalanceOrig\""
   ]
  },
  {
   "cell_type": "code",
   "execution_count": 15,
   "id": "9fa48d68",
   "metadata": {},
   "outputs": [
    {
     "data": {
      "text/html": [
       "<div>\n",
       "<style scoped>\n",
       "    .dataframe tbody tr th:only-of-type {\n",
       "        vertical-align: middle;\n",
       "    }\n",
       "\n",
       "    .dataframe tbody tr th {\n",
       "        vertical-align: top;\n",
       "    }\n",
       "\n",
       "    .dataframe thead th {\n",
       "        text-align: right;\n",
       "    }\n",
       "</style>\n",
       "<table border=\"1\" class=\"dataframe\">\n",
       "  <thead>\n",
       "    <tr style=\"text-align: right;\">\n",
       "      <th></th>\n",
       "      <th>amount</th>\n",
       "      <th>oldbalanceOrg</th>\n",
       "      <th>newbalanceOrig</th>\n",
       "      <th>oldbalanceDest</th>\n",
       "      <th>newbalanceDest</th>\n",
       "    </tr>\n",
       "  </thead>\n",
       "  <tbody>\n",
       "    <tr>\n",
       "      <th>count</th>\n",
       "      <td>0.00</td>\n",
       "      <td>0.00</td>\n",
       "      <td>0.00</td>\n",
       "      <td>0.00</td>\n",
       "      <td>0.00</td>\n",
       "    </tr>\n",
       "    <tr>\n",
       "      <th>mean</th>\n",
       "      <td>NaN</td>\n",
       "      <td>NaN</td>\n",
       "      <td>NaN</td>\n",
       "      <td>NaN</td>\n",
       "      <td>NaN</td>\n",
       "    </tr>\n",
       "    <tr>\n",
       "      <th>std</th>\n",
       "      <td>NaN</td>\n",
       "      <td>NaN</td>\n",
       "      <td>NaN</td>\n",
       "      <td>NaN</td>\n",
       "      <td>NaN</td>\n",
       "    </tr>\n",
       "    <tr>\n",
       "      <th>min</th>\n",
       "      <td>NaN</td>\n",
       "      <td>NaN</td>\n",
       "      <td>NaN</td>\n",
       "      <td>NaN</td>\n",
       "      <td>NaN</td>\n",
       "    </tr>\n",
       "    <tr>\n",
       "      <th>25%</th>\n",
       "      <td>NaN</td>\n",
       "      <td>NaN</td>\n",
       "      <td>NaN</td>\n",
       "      <td>NaN</td>\n",
       "      <td>NaN</td>\n",
       "    </tr>\n",
       "    <tr>\n",
       "      <th>50%</th>\n",
       "      <td>NaN</td>\n",
       "      <td>NaN</td>\n",
       "      <td>NaN</td>\n",
       "      <td>NaN</td>\n",
       "      <td>NaN</td>\n",
       "    </tr>\n",
       "    <tr>\n",
       "      <th>75%</th>\n",
       "      <td>NaN</td>\n",
       "      <td>NaN</td>\n",
       "      <td>NaN</td>\n",
       "      <td>NaN</td>\n",
       "      <td>NaN</td>\n",
       "    </tr>\n",
       "    <tr>\n",
       "      <th>max</th>\n",
       "      <td>NaN</td>\n",
       "      <td>NaN</td>\n",
       "      <td>NaN</td>\n",
       "      <td>NaN</td>\n",
       "      <td>NaN</td>\n",
       "    </tr>\n",
       "  </tbody>\n",
       "</table>\n",
       "</div>"
      ],
      "text/plain": [
       "       amount  oldbalanceOrg  newbalanceOrig  oldbalanceDest  newbalanceDest\n",
       "count    0.00           0.00            0.00            0.00            0.00\n",
       "mean      NaN            NaN             NaN             NaN             NaN\n",
       "std       NaN            NaN             NaN             NaN             NaN\n",
       "min       NaN            NaN             NaN             NaN             NaN\n",
       "25%       NaN            NaN             NaN             NaN             NaN\n",
       "50%       NaN            NaN             NaN             NaN             NaN\n",
       "75%       NaN            NaN             NaN             NaN             NaN\n",
       "max       NaN            NaN             NaN             NaN             NaN"
      ]
     },
     "execution_count": 15,
     "metadata": {},
     "output_type": "execute_result"
    }
   ],
   "source": [
    "#Features quantitativas filtro: \"nameDest\" = merchants e \"isFraud\" = 1\n",
    " \n",
    "merchantsF = df[(df['nameDest'].str.contains('M')) & (df['isFraud'] == 1)]\n",
    "merchantsF[['amount','oldbalanceOrg','newbalanceOrig','oldbalanceDest','newbalanceDest']].describe()"
   ]
  },
  {
   "cell_type": "markdown",
   "id": "996c7723",
   "metadata": {},
   "source": [
    "Obs: Não existem registros de transações envolvendo comerciantes classificadas como fraude"
   ]
  },
  {
   "cell_type": "code",
   "execution_count": 16,
   "id": "9c2f15f3",
   "metadata": {},
   "outputs": [
    {
     "data": {
      "text/html": [
       "<div>\n",
       "<style scoped>\n",
       "    .dataframe tbody tr th:only-of-type {\n",
       "        vertical-align: middle;\n",
       "    }\n",
       "\n",
       "    .dataframe tbody tr th {\n",
       "        vertical-align: top;\n",
       "    }\n",
       "\n",
       "    .dataframe thead th {\n",
       "        text-align: right;\n",
       "    }\n",
       "</style>\n",
       "<table border=\"1\" class=\"dataframe\">\n",
       "  <thead>\n",
       "    <tr style=\"text-align: right;\">\n",
       "      <th></th>\n",
       "      <th>amount</th>\n",
       "      <th>oldbalanceOrg</th>\n",
       "      <th>newbalanceOrig</th>\n",
       "      <th>oldbalanceDest</th>\n",
       "      <th>newbalanceDest</th>\n",
       "    </tr>\n",
       "  </thead>\n",
       "  <tbody>\n",
       "    <tr>\n",
       "      <th>count</th>\n",
       "      <td>4211125.00</td>\n",
       "      <td>4211125.00</td>\n",
       "      <td>4211125.00</td>\n",
       "      <td>4211125.00</td>\n",
       "      <td>4211125.00</td>\n",
       "    </tr>\n",
       "    <tr>\n",
       "      <th>mean</th>\n",
       "      <td>265083.46</td>\n",
       "      <td>1225067.68</td>\n",
       "      <td>1260404.15</td>\n",
       "      <td>1663058.31</td>\n",
       "      <td>1850856.14</td>\n",
       "    </tr>\n",
       "    <tr>\n",
       "      <th>std</th>\n",
       "      <td>727589.12</td>\n",
       "      <td>3482978.00</td>\n",
       "      <td>3523174.12</td>\n",
       "      <td>4064779.99</td>\n",
       "      <td>4386080.47</td>\n",
       "    </tr>\n",
       "    <tr>\n",
       "      <th>min</th>\n",
       "      <td>0.00</td>\n",
       "      <td>0.00</td>\n",
       "      <td>0.00</td>\n",
       "      <td>0.00</td>\n",
       "      <td>0.00</td>\n",
       "    </tr>\n",
       "    <tr>\n",
       "      <th>25%</th>\n",
       "      <td>76085.56</td>\n",
       "      <td>0.00</td>\n",
       "      <td>0.00</td>\n",
       "      <td>139659.05</td>\n",
       "      <td>221717.59</td>\n",
       "    </tr>\n",
       "    <tr>\n",
       "      <th>50%</th>\n",
       "      <td>158943.21</td>\n",
       "      <td>18155.00</td>\n",
       "      <td>0.00</td>\n",
       "      <td>551247.21</td>\n",
       "      <td>683724.79</td>\n",
       "    </tr>\n",
       "    <tr>\n",
       "      <th>75%</th>\n",
       "      <td>278485.01</td>\n",
       "      <td>191127.82</td>\n",
       "      <td>284954.41</td>\n",
       "      <td>1692950.88</td>\n",
       "      <td>1910978.53</td>\n",
       "    </tr>\n",
       "    <tr>\n",
       "      <th>max</th>\n",
       "      <td>92445516.64</td>\n",
       "      <td>59585040.37</td>\n",
       "      <td>49585040.37</td>\n",
       "      <td>356015889.35</td>\n",
       "      <td>356179278.92</td>\n",
       "    </tr>\n",
       "  </tbody>\n",
       "</table>\n",
       "</div>"
      ],
      "text/plain": [
       "           amount  oldbalanceOrg  newbalanceOrig  oldbalanceDest  \\\n",
       "count  4211125.00     4211125.00      4211125.00      4211125.00   \n",
       "mean    265083.46     1225067.68      1260404.15      1663058.31   \n",
       "std     727589.12     3482978.00      3523174.12      4064779.99   \n",
       "min          0.00           0.00            0.00            0.00   \n",
       "25%      76085.56           0.00            0.00       139659.05   \n",
       "50%     158943.21       18155.00            0.00       551247.21   \n",
       "75%     278485.01      191127.82       284954.41      1692950.88   \n",
       "max   92445516.64    59585040.37     49585040.37    356015889.35   \n",
       "\n",
       "       newbalanceDest  \n",
       "count      4211125.00  \n",
       "mean       1850856.14  \n",
       "std        4386080.47  \n",
       "min              0.00  \n",
       "25%         221717.59  \n",
       "50%         683724.79  \n",
       "75%        1910978.53  \n",
       "max      356179278.92  "
      ]
     },
     "execution_count": 16,
     "metadata": {},
     "output_type": "execute_result"
    }
   ],
   "source": [
    "#Features quantitativas filtro: \"nameDest\" != merchants\n",
    "\n",
    "nmerchants = df[~df['nameDest'].str.contains('M')]\n",
    "nmerchants[['amount','oldbalanceOrg','newbalanceOrig','oldbalanceDest','newbalanceDest']].describe()"
   ]
  },
  {
   "cell_type": "code",
   "execution_count": 17,
   "id": "a032e34d",
   "metadata": {},
   "outputs": [
    {
     "data": {
      "image/png": "[encoded data removed]",
      "text/plain": [
       "<Figure size 432x288 with 1 Axes>"
      ]
     },
     "metadata": {
      "needs_background": "light"
     },
     "output_type": "display_data"
    }
   ],
   "source": [
    "ax = nmerchants[['amount','oldbalanceOrg','newbalanceOrig','oldbalanceDest','newbalanceDest']].plot(kind='box')\n",
    "plt.show()"
   ]
  },
  {
   "cell_type": "markdown",
   "id": "86204f8a",
   "metadata": {},
   "source": [
    "Obs: Presença de outliers em todas a features"
   ]
  },
  {
   "cell_type": "code",
   "execution_count": 18,
   "id": "59ca67ca",
   "metadata": {},
   "outputs": [
    {
     "data": {
      "text/html": [
       "<div>\n",
       "<style scoped>\n",
       "    .dataframe tbody tr th:only-of-type {\n",
       "        vertical-align: middle;\n",
       "    }\n",
       "\n",
       "    .dataframe tbody tr th {\n",
       "        vertical-align: top;\n",
       "    }\n",
       "\n",
       "    .dataframe thead th {\n",
       "        text-align: right;\n",
       "    }\n",
       "</style>\n",
       "<table border=\"1\" class=\"dataframe\">\n",
       "  <thead>\n",
       "    <tr style=\"text-align: right;\">\n",
       "      <th></th>\n",
       "      <th>amount</th>\n",
       "      <th>oldbalanceOrg</th>\n",
       "      <th>newbalanceOrig</th>\n",
       "      <th>oldbalanceDest</th>\n",
       "      <th>newbalanceDest</th>\n",
       "    </tr>\n",
       "  </thead>\n",
       "  <tbody>\n",
       "    <tr>\n",
       "      <th>count</th>\n",
       "      <td>8213.00</td>\n",
       "      <td>8213.00</td>\n",
       "      <td>8213.00</td>\n",
       "      <td>8213.00</td>\n",
       "      <td>8213.00</td>\n",
       "    </tr>\n",
       "    <tr>\n",
       "      <th>mean</th>\n",
       "      <td>1467967.30</td>\n",
       "      <td>1649667.61</td>\n",
       "      <td>192392.63</td>\n",
       "      <td>544249.62</td>\n",
       "      <td>1279707.62</td>\n",
       "    </tr>\n",
       "    <tr>\n",
       "      <th>std</th>\n",
       "      <td>2404252.95</td>\n",
       "      <td>3547719.44</td>\n",
       "      <td>1965666.46</td>\n",
       "      <td>3336420.95</td>\n",
       "      <td>3908816.53</td>\n",
       "    </tr>\n",
       "    <tr>\n",
       "      <th>min</th>\n",
       "      <td>0.00</td>\n",
       "      <td>0.00</td>\n",
       "      <td>0.00</td>\n",
       "      <td>0.00</td>\n",
       "      <td>0.00</td>\n",
       "    </tr>\n",
       "    <tr>\n",
       "      <th>25%</th>\n",
       "      <td>127091.33</td>\n",
       "      <td>125822.44</td>\n",
       "      <td>0.00</td>\n",
       "      <td>0.00</td>\n",
       "      <td>0.00</td>\n",
       "    </tr>\n",
       "    <tr>\n",
       "      <th>50%</th>\n",
       "      <td>441423.44</td>\n",
       "      <td>438983.45</td>\n",
       "      <td>0.00</td>\n",
       "      <td>0.00</td>\n",
       "      <td>4676.42</td>\n",
       "    </tr>\n",
       "    <tr>\n",
       "      <th>75%</th>\n",
       "      <td>1517771.48</td>\n",
       "      <td>1517771.48</td>\n",
       "      <td>0.00</td>\n",
       "      <td>147828.66</td>\n",
       "      <td>1058725.22</td>\n",
       "    </tr>\n",
       "    <tr>\n",
       "      <th>max</th>\n",
       "      <td>10000000.00</td>\n",
       "      <td>59585040.37</td>\n",
       "      <td>49585040.37</td>\n",
       "      <td>236230516.82</td>\n",
       "      <td>236726494.66</td>\n",
       "    </tr>\n",
       "  </tbody>\n",
       "</table>\n",
       "</div>"
      ],
      "text/plain": [
       "           amount  oldbalanceOrg  newbalanceOrig  oldbalanceDest  \\\n",
       "count     8213.00        8213.00         8213.00         8213.00   \n",
       "mean   1467967.30     1649667.61       192392.63       544249.62   \n",
       "std    2404252.95     3547719.44      1965666.46      3336420.95   \n",
       "min          0.00           0.00            0.00            0.00   \n",
       "25%     127091.33      125822.44            0.00            0.00   \n",
       "50%     441423.44      438983.45            0.00            0.00   \n",
       "75%    1517771.48     1517771.48            0.00       147828.66   \n",
       "max   10000000.00    59585040.37     49585040.37    236230516.82   \n",
       "\n",
       "       newbalanceDest  \n",
       "count         8213.00  \n",
       "mean       1279707.62  \n",
       "std        3908816.53  \n",
       "min              0.00  \n",
       "25%              0.00  \n",
       "50%           4676.42  \n",
       "75%        1058725.22  \n",
       "max      236726494.66  "
      ]
     },
     "execution_count": 18,
     "metadata": {},
     "output_type": "execute_result"
    }
   ],
   "source": [
    "#Features quantitativas filtro: \"nameDest\" != merchants e \"isFraud\" = 1\n",
    "\n",
    "nmerchantsF = df[(~df['nameDest'].str.contains('M')) & (df['isFraud'] == 1)]\n",
    "nmerchantsF[['amount','oldbalanceOrg','newbalanceOrig','oldbalanceDest','newbalanceDest']].describe()"
   ]
  },
  {
   "cell_type": "code",
   "execution_count": 19,
   "id": "e1f015c9",
   "metadata": {},
   "outputs": [
    {
     "data": {
      "image/png": "[encoded data removed]",
      "text/plain": [
       "<Figure size 432x288 with 1 Axes>"
      ]
     },
     "metadata": {
      "needs_background": "light"
     },
     "output_type": "display_data"
    }
   ],
   "source": [
    "ax = nmerchantsF[['amount','oldbalanceOrg','newbalanceOrig','oldbalanceDest','newbalanceDest']].plot(kind='box')\n",
    "plt.show()"
   ]
  },
  {
   "cell_type": "markdown",
   "id": "fb674c01",
   "metadata": {},
   "source": [
    "Obs: Aumento considerável no desvio padrão da feature \"amount\""
   ]
  },
  {
   "cell_type": "markdown",
   "id": "d5c02f5f",
   "metadata": {},
   "source": [
    "#### FEATURE 'step'"
   ]
  },
  {
   "cell_type": "code",
   "execution_count": 20,
   "id": "3e6523be",
   "metadata": {},
   "outputs": [
    {
     "data": {
      "text/plain": [
       "<seaborn.axisgrid.FacetGrid at 0x206bbe6d040>"
      ]
     },
     "execution_count": 20,
     "metadata": {},
     "output_type": "execute_result"
    },
    {
     "data": {
      "image/png": "[encoded data removed]",
      "text/plain": [
       "<Figure size 360x360 with 1 Axes>"
      ]
     },
     "metadata": {
      "needs_background": "light"
     },
     "output_type": "display_data"
    }
   ],
   "source": [
    "#Distribuição feature \"step\"\n",
    "\n",
    "sns.displot(df['step'])"
   ]
  },
  {
   "cell_type": "code",
   "execution_count": 21,
   "id": "b4234011",
   "metadata": {},
   "outputs": [
    {
     "data": {
      "text/plain": [
       "<seaborn.axisgrid.FacetGrid at 0x20732413c70>"
      ]
     },
     "execution_count": 21,
     "metadata": {},
     "output_type": "execute_result"
    },
    {
     "data": {
      "image/png": "[encoded data removed]",
      "text/plain": [
       "<Figure size 360x360 with 1 Axes>"
      ]
     },
     "metadata": {
      "needs_background": "light"
     },
     "output_type": "display_data"
    }
   ],
   "source": [
    "#Distribuição feature \"step\" para transações classificadas como fraude\n",
    "\n",
    "sns.displot(df['step'].loc[df['isFraud'] == 1])  "
   ]
  },
  {
   "cell_type": "markdown",
   "id": "6747f609",
   "metadata": {},
   "source": [
    "Obs: Distribuição homogênea para transações classificadas como fraude"
   ]
  },
  {
   "cell_type": "markdown",
   "id": "330b4cc8",
   "metadata": {},
   "source": [
    "#### FEATURE 'type'"
   ]
  },
  {
   "cell_type": "code",
   "execution_count": 22,
   "id": "630c0674",
   "metadata": {},
   "outputs": [
    {
     "name": "stdout",
     "output_type": "stream",
     "text": [
      "CASH_OUT    2237500\n",
      "PAYMENT     2151495\n",
      "CASH_IN     1399284\n",
      "TRANSFER     532909\n",
      "DEBIT         41432\n",
      "Name: type, dtype: int64\n"
     ]
    }
   ],
   "source": [
    "print(df['type'].value_counts())"
   ]
  },
  {
   "cell_type": "code",
   "execution_count": 23,
   "id": "3751844b",
   "metadata": {},
   "outputs": [
    {
     "data": {
      "text/plain": [
       "<seaborn.axisgrid.FacetGrid at 0x20732404a00>"
      ]
     },
     "execution_count": 23,
     "metadata": {},
     "output_type": "execute_result"
    },
    {
     "data": {
      "image/png": "[encoded data removed]",
      "text/plain": [
       "<Figure size 360x360 with 1 Axes>"
      ]
     },
     "metadata": {
      "needs_background": "light"
     },
     "output_type": "display_data"
    }
   ],
   "source": [
    "#Distribuição feature \"type\"\n",
    "\n",
    "sns.displot(df['type'])"
   ]
  },
  {
   "cell_type": "code",
   "execution_count": 24,
   "id": "a9ddabaa",
   "metadata": {},
   "outputs": [
    {
     "data": {
      "text/plain": [
       "<seaborn.axisgrid.FacetGrid at 0x206c923d0d0>"
      ]
     },
     "execution_count": 24,
     "metadata": {},
     "output_type": "execute_result"
    },
    {
     "data": {
      "image/png": "[encoded data removed]",
      "text/plain": [
       "<Figure size 360x360 with 1 Axes>"
      ]
     },
     "metadata": {
      "needs_background": "light"
     },
     "output_type": "display_data"
    }
   ],
   "source": [
    "#Distribuição feature \"type\" para transações classificadas como fraude\n",
    "\n",
    "sns.displot(df['type'].loc[df['isFraud'] == 1])  "
   ]
  },
  {
   "cell_type": "markdown",
   "id": "b664d67a",
   "metadata": {},
   "source": [
    "Obs: Concentração das fraudes nos tipos \"transfer\" e \"cash_out\", distribuição homogênea entre ambas"
   ]
  },
  {
   "cell_type": "markdown",
   "id": "bdffd991",
   "metadata": {},
   "source": [
    "#### FEATURE 'isFlaggedFraud'"
   ]
  },
  {
   "cell_type": "code",
   "execution_count": 25,
   "id": "0d2e7a60",
   "metadata": {},
   "outputs": [
    {
     "data": {
      "text/plain": [
       "<seaborn.axisgrid.FacetGrid at 0x207324005e0>"
      ]
     },
     "execution_count": 25,
     "metadata": {},
     "output_type": "execute_result"
    },
    {
     "data": {
      "image/png": "[encoded data removed]",
      "text/plain": [
       "<Figure size 360x360 with 1 Axes>"
      ]
     },
     "metadata": {
      "needs_background": "light"
     },
     "output_type": "display_data"
    }
   ],
   "source": [
    "#Distribuição feature \"isFlaggedFraud\"\n",
    "\n",
    "sns.displot(df['isFlaggedFraud'])"
   ]
  },
  {
   "cell_type": "code",
   "execution_count": 26,
   "id": "54ca11d2",
   "metadata": {},
   "outputs": [
    {
     "data": {
      "text/plain": [
       "<seaborn.axisgrid.FacetGrid at 0x206c93521f0>"
      ]
     },
     "execution_count": 26,
     "metadata": {},
     "output_type": "execute_result"
    },
    {
     "data": {
      "image/png": "[encoded data removed]",
      "text/plain": [
       "<Figure size 360x360 with 1 Axes>"
      ]
     },
     "metadata": {
      "needs_background": "light"
     },
     "output_type": "display_data"
    }
   ],
   "source": [
    "#Distribuição feature \"isFlaggedFraud\" classificadas como fraude\n",
    "\n",
    "sns.displot(df['isFlaggedFraud'].loc[df['isFraud'] == 1]) "
   ]
  },
  {
   "cell_type": "code",
   "execution_count": 27,
   "id": "88aab3be",
   "metadata": {},
   "outputs": [
    {
     "data": {
      "text/plain": [
       "1673570"
      ]
     },
     "execution_count": 27,
     "metadata": {},
     "output_type": "execute_result"
    }
   ],
   "source": [
    "#Transações com valor superior a 200 mil\n",
    "\n",
    "df['amount'].loc[df['amount'] >= 200000.00].count()"
   ]
  },
  {
   "cell_type": "code",
   "execution_count": 28,
   "id": "9c19e92d",
   "metadata": {},
   "outputs": [
    {
     "data": {
      "text/plain": [
       "16"
      ]
     },
     "execution_count": 28,
     "metadata": {},
     "output_type": "execute_result"
    }
   ],
   "source": [
    "#Transações classificadas como ilegais\n",
    "\n",
    "df['isFlaggedFraud'].loc[df['isFlaggedFraud'] == 1].count()"
   ]
  },
  {
   "cell_type": "code",
   "execution_count": 29,
   "id": "b45d8e47",
   "metadata": {},
   "outputs": [
    {
     "data": {
      "text/plain": [
       "16"
      ]
     },
     "execution_count": 29,
     "metadata": {},
     "output_type": "execute_result"
    }
   ],
   "source": [
    "#Transações com valor superior a 200 mil e classificadas como ilegais\n",
    "\n",
    "df['amount'].loc[(df['amount'] >= 200000.00) & (df['isFlaggedFraud'] == 1)].count()"
   ]
  },
  {
   "cell_type": "code",
   "execution_count": 30,
   "id": "7dd707a5",
   "metadata": {},
   "outputs": [
    {
     "name": "stdout",
     "output_type": "stream",
     "text": [
      "16\n"
     ]
    }
   ],
   "source": [
    "#Transações com valor superior a 200 mil, classificadas como ilegais e classificadas como fraude\n",
    "\n",
    "flageed = df['amount'].loc[(df['amount'] >= 200000.00) & (df['isFlaggedFraud'] == 1) & (df['isFraud'] == 1)].count()\n",
    "print(flageed)"
   ]
  },
  {
   "cell_type": "code",
   "execution_count": 31,
   "id": "6860dc33",
   "metadata": {},
   "outputs": [
    {
     "name": "stdout",
     "output_type": "stream",
     "text": [
      "0.19 %\n"
     ]
    }
   ],
   "source": [
    "print(\"{:.2f} %\".format((flageed / fraude) * 100)) "
   ]
  },
  {
   "cell_type": "markdown",
   "id": "f89bb7a9",
   "metadata": {},
   "source": [
    "Obs: Apesar de um percentual baixo em relação ao conjunto de transações classificadas como fraude, 100% das transações classificadas como ilegais se mostraram fraudulentas"
   ]
  },
  {
   "cell_type": "markdown",
   "id": "fc4bbba2",
   "metadata": {},
   "source": [
    "#### FEATURE 'nameOrig' 'nameDest'"
   ]
  },
  {
   "cell_type": "code",
   "execution_count": 32,
   "id": "a5c49f84",
   "metadata": {},
   "outputs": [
    {
     "name": "stdout",
     "output_type": "stream",
     "text": [
      "Número de nameOrig únicos: 6353307\n",
      "Número de nameOrig repetidos: 9298\n"
     ]
    }
   ],
   "source": [
    "nameOrig = pd.Series(df['nameOrig'].tolist())\n",
    "\n",
    "print('Número de nameOrig únicos:',np.unique(nameOrig).shape[0])\n",
    "\n",
    "n = nameOrig.value_counts() > 1\n",
    "print('Número de nameOrig repetidos:',n[n].shape[0])"
   ]
  },
  {
   "cell_type": "code",
   "execution_count": 33,
   "id": "824ce8a7",
   "metadata": {},
   "outputs": [
    {
     "data": {
      "image/png": "[encoded data removed]",
      "text/plain": [
       "<Figure size 432x288 with 1 Axes>"
      ]
     },
     "metadata": {
      "needs_background": "light"
     },
     "output_type": "display_data"
    }
   ],
   "source": [
    "#Distribuição repetição feature \"nameOrig\"\n",
    "\n",
    "plt.hist(nameOrig.value_counts().values)\n",
    "plt.yscale('log')\n",
    "plt.show()"
   ]
  },
  {
   "cell_type": "code",
   "execution_count": 34,
   "id": "b0c55e68",
   "metadata": {},
   "outputs": [
    {
     "name": "stdout",
     "output_type": "stream",
     "text": [
      "Número de nameOrig únicos - Fraude :  8213\n",
      "Número de nameOrig repetidos - Fraude :  0\n"
     ]
    }
   ],
   "source": [
    "#Feature \"nameOrig\" classificadas como fraude\n",
    "\n",
    "nameOrigF = pd.Series(df['nameOrig'].loc[df['isFraud'] == 1].tolist())\n",
    "\n",
    "print('Número de nameOrig únicos - Fraude : ',np.unique(nameOrigF).shape[0])\n",
    "\n",
    "n = nameOrigF.value_counts() > 1\n",
    "print('Número de nameOrig repetidos - Fraude : ',n[n].shape[0])"
   ]
  },
  {
   "cell_type": "code",
   "execution_count": 35,
   "id": "6b0ccd88",
   "metadata": {},
   "outputs": [
    {
     "name": "stdout",
     "output_type": "stream",
     "text": [
      "Número de nameDest únicos: 2722362\n",
      "Número de nameDest repetidos: 459658\n"
     ]
    }
   ],
   "source": [
    "nameDest = pd.Series(df['nameDest'].tolist())\n",
    "\n",
    "print('Número de nameDest únicos:',np.unique(nameDest).shape[0])\n",
    "\n",
    "n = nameDest.value_counts() > 1\n",
    "print('Número de nameDest repetidos:',n[n].shape[0])"
   ]
  },
  {
   "cell_type": "code",
   "execution_count": 36,
   "id": "4f34b9b1",
   "metadata": {},
   "outputs": [
    {
     "data": {
      "image/png": "[encoded data removed]",
      "text/plain": [
       "<Figure size 432x288 with 1 Axes>"
      ]
     },
     "metadata": {
      "needs_background": "light"
     },
     "output_type": "display_data"
    }
   ],
   "source": [
    "#Distribuição repetição feature \"nameDest\"\n",
    "\n",
    "plt.hist(nameDest.value_counts().values)\n",
    "plt.yscale('log')\n",
    "plt.show()"
   ]
  },
  {
   "cell_type": "code",
   "execution_count": 37,
   "id": "60058607",
   "metadata": {},
   "outputs": [
    {
     "name": "stdout",
     "output_type": "stream",
     "text": [
      "Número de nameDest únicos - Fraude :  8169\n",
      "Número de nameDest repetidos - Fraude :  44\n"
     ]
    }
   ],
   "source": [
    "nameDestF = pd.Series(df['nameDest'].loc[df['isFraud'] == 1].tolist())\n",
    "\n",
    "print('Número de nameDest únicos - Fraude : ',np.unique(nameDestF).shape[0])\n",
    "\n",
    "n = nameDestF.value_counts() > 1\n",
    "print('Número de nameDest repetidos - Fraude : ',n[n].shape[0])"
   ]
  },
  {
   "cell_type": "code",
   "execution_count": 38,
   "id": "25e466de",
   "metadata": {},
   "outputs": [
    {
     "data": {
      "image/png": "[encoded data removed]",
      "text/plain": [
       "<Figure size 432x288 with 1 Axes>"
      ]
     },
     "metadata": {
      "needs_background": "light"
     },
     "output_type": "display_data"
    }
   ],
   "source": [
    "#Distribuição feature \"nameDest\" classificadas como fraude\n",
    "\n",
    "plt.hist(nameDestF.value_counts().values)\n",
    "plt.show()"
   ]
  },
  {
   "cell_type": "markdown",
   "id": "18a0b19d",
   "metadata": {},
   "source": [
    "Obs: Tanto a feature \"nameOrig\" como \"nameDest\" quando classificadas como não fraude (0) possuem tendência decrescente no quesito aparições únicas. Já quando marcadas como fraude (1) tendem a não se repetir."
   ]
  },
  {
   "cell_type": "markdown",
   "id": "4fe15516",
   "metadata": {},
   "source": [
    "### DATA PREPARATION"
   ]
  },
  {
   "cell_type": "code",
   "execution_count": 39,
   "id": "54b61618",
   "metadata": {},
   "outputs": [],
   "source": [
    "dfp = df.copy()"
   ]
  },
  {
   "cell_type": "code",
   "execution_count": 40,
   "id": "6b745691",
   "metadata": {},
   "outputs": [
    {
     "data": {
      "text/plain": [
       "(6362620, 11)"
      ]
     },
     "execution_count": 40,
     "metadata": {},
     "output_type": "execute_result"
    }
   ],
   "source": [
    "dfp.shape"
   ]
  },
  {
   "cell_type": "markdown",
   "id": "c49ac831",
   "metadata": {},
   "source": [
    "Nessa fase utilizarei os insights obtidos na etapa anterior e aplicarei diferentes técnicas (Dummy, Label Encoding e PCA) para preparar nossos dataframes para a fase de modelagem. Ao final dessa etapa, terei 4 diferentes dataframes. Um utilizando a técnica de dummy para a feature (\"type\") e a técnica de label encoding para as features  (\"nameOrig, nameDest\") e um utilizando a técnica label encoding para todas as features object. Também aplicarei o algorítmo de PCA em ambos dataframes gerando assim dois outros, totalizando os 4.  "
   ]
  },
  {
   "cell_type": "markdown",
   "id": "065d534c",
   "metadata": {},
   "source": [
    "#### DATAFRAME DUMMY + LABEL ENCODING"
   ]
  },
  {
   "cell_type": "code",
   "execution_count": 41,
   "id": "6d3e1bef",
   "metadata": {},
   "outputs": [],
   "source": [
    "dfp_dummy = dfp.copy()"
   ]
  },
  {
   "cell_type": "code",
   "execution_count": 42,
   "id": "1dd80e16",
   "metadata": {},
   "outputs": [],
   "source": [
    "#Transformação da feature \"type\" através da técnica Dummy\n",
    "\n",
    "dummy = pd.get_dummies(dfp_dummy[['type']])\n",
    "dfp_dummy = pd.concat([dfp_dummy,dummy],axis = 1)"
   ]
  },
  {
   "cell_type": "code",
   "execution_count": 43,
   "id": "11cb54dc",
   "metadata": {},
   "outputs": [],
   "source": [
    "dfp_dummy.drop(labels='type', axis=1, inplace = True)"
   ]
  },
  {
   "cell_type": "code",
   "execution_count": 44,
   "id": "fe7e0f18",
   "metadata": {},
   "outputs": [
    {
     "data": {
      "text/html": [
       "<div>\n",
       "<style scoped>\n",
       "    .dataframe tbody tr th:only-of-type {\n",
       "        vertical-align: middle;\n",
       "    }\n",
       "\n",
       "    .dataframe tbody tr th {\n",
       "        vertical-align: top;\n",
       "    }\n",
       "\n",
       "    .dataframe thead th {\n",
       "        text-align: right;\n",
       "    }\n",
       "</style>\n",
       "<table border=\"1\" class=\"dataframe\">\n",
       "  <thead>\n",
       "    <tr style=\"text-align: right;\">\n",
       "      <th></th>\n",
       "      <th>step</th>\n",
       "      <th>amount</th>\n",
       "      <th>nameOrig</th>\n",
       "      <th>oldbalanceOrg</th>\n",
       "      <th>newbalanceOrig</th>\n",
       "      <th>nameDest</th>\n",
       "      <th>oldbalanceDest</th>\n",
       "      <th>newbalanceDest</th>\n",
       "      <th>isFraud</th>\n",
       "      <th>isFlaggedFraud</th>\n",
       "      <th>type_CASH_IN</th>\n",
       "      <th>type_CASH_OUT</th>\n",
       "      <th>type_DEBIT</th>\n",
       "      <th>type_PAYMENT</th>\n",
       "      <th>type_TRANSFER</th>\n",
       "    </tr>\n",
       "  </thead>\n",
       "  <tbody>\n",
       "    <tr>\n",
       "      <th>2222352</th>\n",
       "      <td>186</td>\n",
       "      <td>252525.72</td>\n",
       "      <td>C1581405581</td>\n",
       "      <td>0.00</td>\n",
       "      <td>0.00</td>\n",
       "      <td>C81349149</td>\n",
       "      <td>618693.23</td>\n",
       "      <td>871218.95</td>\n",
       "      <td>0</td>\n",
       "      <td>0</td>\n",
       "      <td>0</td>\n",
       "      <td>1</td>\n",
       "      <td>0</td>\n",
       "      <td>0</td>\n",
       "      <td>0</td>\n",
       "    </tr>\n",
       "    <tr>\n",
       "      <th>4466493</th>\n",
       "      <td>324</td>\n",
       "      <td>30600.24</td>\n",
       "      <td>C1082563569</td>\n",
       "      <td>0.00</td>\n",
       "      <td>0.00</td>\n",
       "      <td>C515132998</td>\n",
       "      <td>15320700.44</td>\n",
       "      <td>15351300.68</td>\n",
       "      <td>0</td>\n",
       "      <td>0</td>\n",
       "      <td>0</td>\n",
       "      <td>1</td>\n",
       "      <td>0</td>\n",
       "      <td>0</td>\n",
       "      <td>0</td>\n",
       "    </tr>\n",
       "    <tr>\n",
       "      <th>5360184</th>\n",
       "      <td>375</td>\n",
       "      <td>30673.10</td>\n",
       "      <td>C2009203226</td>\n",
       "      <td>0.00</td>\n",
       "      <td>0.00</td>\n",
       "      <td>M450312829</td>\n",
       "      <td>0.00</td>\n",
       "      <td>0.00</td>\n",
       "      <td>0</td>\n",
       "      <td>0</td>\n",
       "      <td>0</td>\n",
       "      <td>0</td>\n",
       "      <td>0</td>\n",
       "      <td>1</td>\n",
       "      <td>0</td>\n",
       "    </tr>\n",
       "    <tr>\n",
       "      <th>3301254</th>\n",
       "      <td>252</td>\n",
       "      <td>653236.40</td>\n",
       "      <td>C1756158898</td>\n",
       "      <td>11011.00</td>\n",
       "      <td>0.00</td>\n",
       "      <td>C745201352</td>\n",
       "      <td>0.00</td>\n",
       "      <td>617243.64</td>\n",
       "      <td>0</td>\n",
       "      <td>0</td>\n",
       "      <td>0</td>\n",
       "      <td>0</td>\n",
       "      <td>0</td>\n",
       "      <td>0</td>\n",
       "      <td>1</td>\n",
       "    </tr>\n",
       "    <tr>\n",
       "      <th>4216351</th>\n",
       "      <td>305</td>\n",
       "      <td>7007943.39</td>\n",
       "      <td>C6860810</td>\n",
       "      <td>10729.00</td>\n",
       "      <td>0.00</td>\n",
       "      <td>C232078007</td>\n",
       "      <td>1752343.39</td>\n",
       "      <td>8760286.78</td>\n",
       "      <td>0</td>\n",
       "      <td>0</td>\n",
       "      <td>0</td>\n",
       "      <td>0</td>\n",
       "      <td>0</td>\n",
       "      <td>0</td>\n",
       "      <td>1</td>\n",
       "    </tr>\n",
       "  </tbody>\n",
       "</table>\n",
       "</div>"
      ],
      "text/plain": [
       "         step     amount     nameOrig  oldbalanceOrg  newbalanceOrig  \\\n",
       "2222352   186  252525.72  C1581405581           0.00            0.00   \n",
       "4466493   324   30600.24  C1082563569           0.00            0.00   \n",
       "5360184   375   30673.10  C2009203226           0.00            0.00   \n",
       "3301254   252  653236.40  C1756158898       11011.00            0.00   \n",
       "4216351   305 7007943.39     C6860810       10729.00            0.00   \n",
       "\n",
       "           nameDest  oldbalanceDest  newbalanceDest  isFraud  isFlaggedFraud  \\\n",
       "2222352   C81349149       618693.23       871218.95        0               0   \n",
       "4466493  C515132998     15320700.44     15351300.68        0               0   \n",
       "5360184  M450312829            0.00            0.00        0               0   \n",
       "3301254  C745201352            0.00       617243.64        0               0   \n",
       "4216351  C232078007      1752343.39      8760286.78        0               0   \n",
       "\n",
       "         type_CASH_IN  type_CASH_OUT  type_DEBIT  type_PAYMENT  type_TRANSFER  \n",
       "2222352             0              1           0             0              0  \n",
       "4466493             0              1           0             0              0  \n",
       "5360184             0              0           0             1              0  \n",
       "3301254             0              0           0             0              1  \n",
       "4216351             0              0           0             0              1  "
      ]
     },
     "execution_count": 44,
     "metadata": {},
     "output_type": "execute_result"
    }
   ],
   "source": [
    "dfp_dummy.sample(5)"
   ]
  },
  {
   "cell_type": "code",
   "execution_count": 45,
   "id": "cc4ea8aa",
   "metadata": {},
   "outputs": [
    {
     "name": "stdout",
     "output_type": "stream",
     "text": [
      "<class 'pandas.core.frame.DataFrame'>\n",
      "RangeIndex: 6362620 entries, 0 to 6362619\n",
      "Data columns (total 15 columns):\n",
      " #   Column          Dtype  \n",
      "---  ------          -----  \n",
      " 0   step            int64  \n",
      " 1   amount          float64\n",
      " 2   nameOrig        object \n",
      " 3   oldbalanceOrg   float64\n",
      " 4   newbalanceOrig  float64\n",
      " 5   nameDest        object \n",
      " 6   oldbalanceDest  float64\n",
      " 7   newbalanceDest  float64\n",
      " 8   isFraud         int64  \n",
      " 9   isFlaggedFraud  int64  \n",
      " 10  type_CASH_IN    uint8  \n",
      " 11  type_CASH_OUT   uint8  \n",
      " 12  type_DEBIT      uint8  \n",
      " 13  type_PAYMENT    uint8  \n",
      " 14  type_TRANSFER   uint8  \n",
      "dtypes: float64(5), int64(3), object(2), uint8(5)\n",
      "memory usage: 515.8+ MB\n"
     ]
    }
   ],
   "source": [
    "dfp_dummy.info()"
   ]
  },
  {
   "cell_type": "code",
   "execution_count": 46,
   "id": "23c5145a",
   "metadata": {},
   "outputs": [
    {
     "name": "stdout",
     "output_type": "stream",
     "text": [
      "Index(['nameOrig', 'nameDest'], dtype='object')\n",
      "<class 'pandas.core.frame.DataFrame'>\n",
      "RangeIndex: 6362620 entries, 0 to 6362619\n",
      "Data columns (total 15 columns):\n",
      " #   Column          Dtype  \n",
      "---  ------          -----  \n",
      " 0   step            int64  \n",
      " 1   amount          float64\n",
      " 2   nameOrig        int32  \n",
      " 3   oldbalanceOrg   float64\n",
      " 4   newbalanceOrig  float64\n",
      " 5   nameDest        int32  \n",
      " 6   oldbalanceDest  float64\n",
      " 7   newbalanceDest  float64\n",
      " 8   isFraud         int64  \n",
      " 9   isFlaggedFraud  int64  \n",
      " 10  type_CASH_IN    uint8  \n",
      " 11  type_CASH_OUT   uint8  \n",
      " 12  type_DEBIT      uint8  \n",
      " 13  type_PAYMENT    uint8  \n",
      " 14  type_TRANSFER   uint8  \n",
      "dtypes: float64(5), int32(2), int64(3), uint8(5)\n",
      "memory usage: 467.2 MB\n",
      "None\n"
     ]
    }
   ],
   "source": [
    "# Transformação das features \"nameOrig\" e \"nameDest\" através da técnica Label Encoding\n",
    "\n",
    "objList = dfp_dummy.select_dtypes(include = \"object\").columns\n",
    "\n",
    "print (objList)\n",
    "\n",
    "le = LabelEncoder()\n",
    "\n",
    "for i in objList:\n",
    "    \n",
    "    dfp_dummy[i] = le.fit_transform(dfp_dummy[i].astype(str))\n",
    "\n",
    "print (dfp_dummy.info())"
   ]
  },
  {
   "cell_type": "markdown",
   "id": "2b85db70",
   "metadata": {},
   "source": [
    "Após transformação das features, farei o teste de variance inflation factor VIF (fator de inflação de variância) que mede o quanto o comportamento de uma feature independente é influenciado, ou inflado, por sua interação/correlação com as demais features independentes também conhecido como multicolinearidade."
   ]
  },
  {
   "cell_type": "code",
   "execution_count": 47,
   "id": "60c04a48",
   "metadata": {},
   "outputs": [],
   "source": [
    "#Verificação de multicolinearidade\n",
    "\n",
    "def calc_vif(df):\n",
    "\n",
    "    vif = pd.DataFrame()\n",
    "    vif[\"Features\"] = df.columns\n",
    "    vif[\"VIF\"] = [variance_inflation_factor(df.values, i) for i in range(df.shape[1])]\n",
    "\n",
    "    return(vif)\n",
    "\n",
    "#calc_vif(dfp_dummy)"
   ]
  },
  {
   "cell_type": "markdown",
   "id": "5bf3911f",
   "metadata": {},
   "source": [
    "Obs: Features \"oldbalanceOrg\" e \"newbalanceOrig\" / \"oldbalanceDest\"\te \"newbalanceDest\" possuem alto valor VIF. Nesse caso, verifiquei a feature com menor correlação com Y e a excluirei do dataframe. "
   ]
  },
  {
   "cell_type": "code",
   "execution_count": 48,
   "id": "d154bd5d",
   "metadata": {},
   "outputs": [],
   "source": [
    "#Cópia do datraframe antes da exclusão das features para utilização na técnica PCA\n",
    "\n",
    "df_pca_dummy = dfp_dummy.copy() "
   ]
  },
  {
   "cell_type": "code",
   "execution_count": 49,
   "id": "efb69387",
   "metadata": {},
   "outputs": [],
   "source": [
    "#Features \"newbalanceOrig\" e \"newbalanceDest\" apresentaram menor valor de correlação com Y\n",
    "\n",
    "dfp_dummy.drop(['newbalanceOrig','newbalanceDest'],axis=1, inplace = True)"
   ]
  },
  {
   "cell_type": "code",
   "execution_count": 50,
   "id": "23ad26d0",
   "metadata": {},
   "outputs": [],
   "source": [
    "#Normalização de escala das features \"amount\", \"oldbalanceDest\" e \"oldbalanceOrg\"\n",
    "\n",
    "scaler = StandardScaler()\n",
    "\n",
    "dfp_dummy[\"normAmount\"] = scaler.fit_transform(dfp_dummy[\"amount\"].values.reshape(-1, 1))\n",
    "dfp_dummy[\"normOldbalanceDest\"] = scaler.fit_transform(dfp_dummy[\"oldbalanceDest\"].values.reshape(-1, 1))\n",
    "dfp_dummy[\"normOldbalanceOrg\"] = scaler.fit_transform(dfp_dummy[\"oldbalanceOrg\"].values.reshape(-1, 1))\n",
    "\n",
    "dfp_dummy.drop(['amount','oldbalanceDest','oldbalanceOrg'], inplace= True, axis= 1)"
   ]
  },
  {
   "cell_type": "code",
   "execution_count": 51,
   "id": "2baec7e2",
   "metadata": {},
   "outputs": [
    {
     "data": {
      "text/html": [
       "<div>\n",
       "<style scoped>\n",
       "    .dataframe tbody tr th:only-of-type {\n",
       "        vertical-align: middle;\n",
       "    }\n",
       "\n",
       "    .dataframe tbody tr th {\n",
       "        vertical-align: top;\n",
       "    }\n",
       "\n",
       "    .dataframe thead th {\n",
       "        text-align: right;\n",
       "    }\n",
       "</style>\n",
       "<table border=\"1\" class=\"dataframe\">\n",
       "  <thead>\n",
       "    <tr style=\"text-align: right;\">\n",
       "      <th></th>\n",
       "      <th>step</th>\n",
       "      <th>nameOrig</th>\n",
       "      <th>nameDest</th>\n",
       "      <th>isFraud</th>\n",
       "      <th>isFlaggedFraud</th>\n",
       "      <th>type_CASH_IN</th>\n",
       "      <th>type_CASH_OUT</th>\n",
       "      <th>type_DEBIT</th>\n",
       "      <th>type_PAYMENT</th>\n",
       "      <th>type_TRANSFER</th>\n",
       "      <th>normAmount</th>\n",
       "      <th>normOldbalanceDest</th>\n",
       "      <th>normOldbalanceOrg</th>\n",
       "    </tr>\n",
       "  </thead>\n",
       "  <tbody>\n",
       "    <tr>\n",
       "      <th>count</th>\n",
       "      <td>6362620.00</td>\n",
       "      <td>6362620.00</td>\n",
       "      <td>6362620.00</td>\n",
       "      <td>6362620.00</td>\n",
       "      <td>6362620.00</td>\n",
       "      <td>6362620.00</td>\n",
       "      <td>6362620.00</td>\n",
       "      <td>6362620.00</td>\n",
       "      <td>6362620.00</td>\n",
       "      <td>6362620.00</td>\n",
       "      <td>6362620.00</td>\n",
       "      <td>6362620.00</td>\n",
       "      <td>6362620.00</td>\n",
       "    </tr>\n",
       "    <tr>\n",
       "      <th>mean</th>\n",
       "      <td>243.40</td>\n",
       "      <td>3176678.11</td>\n",
       "      <td>746427.04</td>\n",
       "      <td>0.00</td>\n",
       "      <td>0.00</td>\n",
       "      <td>0.22</td>\n",
       "      <td>0.35</td>\n",
       "      <td>0.01</td>\n",
       "      <td>0.34</td>\n",
       "      <td>0.08</td>\n",
       "      <td>0.00</td>\n",
       "      <td>-0.00</td>\n",
       "      <td>0.00</td>\n",
       "    </tr>\n",
       "    <tr>\n",
       "      <th>std</th>\n",
       "      <td>142.33</td>\n",
       "      <td>1834064.17</td>\n",
       "      <td>750245.52</td>\n",
       "      <td>0.04</td>\n",
       "      <td>0.00</td>\n",
       "      <td>0.41</td>\n",
       "      <td>0.48</td>\n",
       "      <td>0.08</td>\n",
       "      <td>0.47</td>\n",
       "      <td>0.28</td>\n",
       "      <td>1.00</td>\n",
       "      <td>1.00</td>\n",
       "      <td>1.00</td>\n",
       "    </tr>\n",
       "    <tr>\n",
       "      <th>min</th>\n",
       "      <td>1.00</td>\n",
       "      <td>0.00</td>\n",
       "      <td>0.00</td>\n",
       "      <td>0.00</td>\n",
       "      <td>0.00</td>\n",
       "      <td>0.00</td>\n",
       "      <td>0.00</td>\n",
       "      <td>0.00</td>\n",
       "      <td>0.00</td>\n",
       "      <td>0.00</td>\n",
       "      <td>-0.30</td>\n",
       "      <td>-0.32</td>\n",
       "      <td>-0.29</td>\n",
       "    </tr>\n",
       "    <tr>\n",
       "      <th>25%</th>\n",
       "      <td>156.00</td>\n",
       "      <td>1588331.75</td>\n",
       "      <td>216895.00</td>\n",
       "      <td>0.00</td>\n",
       "      <td>0.00</td>\n",
       "      <td>0.00</td>\n",
       "      <td>0.00</td>\n",
       "      <td>0.00</td>\n",
       "      <td>0.00</td>\n",
       "      <td>0.00</td>\n",
       "      <td>-0.28</td>\n",
       "      <td>-0.32</td>\n",
       "      <td>-0.29</td>\n",
       "    </tr>\n",
       "    <tr>\n",
       "      <th>50%</th>\n",
       "      <td>239.00</td>\n",
       "      <td>3176672.50</td>\n",
       "      <td>432289.00</td>\n",
       "      <td>0.00</td>\n",
       "      <td>0.00</td>\n",
       "      <td>0.00</td>\n",
       "      <td>0.00</td>\n",
       "      <td>0.00</td>\n",
       "      <td>0.00</td>\n",
       "      <td>0.00</td>\n",
       "      <td>-0.17</td>\n",
       "      <td>-0.28</td>\n",
       "      <td>-0.28</td>\n",
       "    </tr>\n",
       "    <tr>\n",
       "      <th>75%</th>\n",
       "      <td>335.00</td>\n",
       "      <td>4765048.25</td>\n",
       "      <td>1132509.25</td>\n",
       "      <td>0.00</td>\n",
       "      <td>0.00</td>\n",
       "      <td>0.00</td>\n",
       "      <td>1.00</td>\n",
       "      <td>0.00</td>\n",
       "      <td>1.00</td>\n",
       "      <td>0.00</td>\n",
       "      <td>0.05</td>\n",
       "      <td>-0.05</td>\n",
       "      <td>-0.25</td>\n",
       "    </tr>\n",
       "    <tr>\n",
       "      <th>max</th>\n",
       "      <td>743.00</td>\n",
       "      <td>6353306.00</td>\n",
       "      <td>2722361.00</td>\n",
       "      <td>1.00</td>\n",
       "      <td>1.00</td>\n",
       "      <td>1.00</td>\n",
       "      <td>1.00</td>\n",
       "      <td>1.00</td>\n",
       "      <td>1.00</td>\n",
       "      <td>1.00</td>\n",
       "      <td>152.79</td>\n",
       "      <td>104.41</td>\n",
       "      <td>20.34</td>\n",
       "    </tr>\n",
       "  </tbody>\n",
       "</table>\n",
       "</div>"
      ],
      "text/plain": [
       "            step   nameOrig   nameDest    isFraud  isFlaggedFraud  \\\n",
       "count 6362620.00 6362620.00 6362620.00 6362620.00      6362620.00   \n",
       "mean      243.40 3176678.11  746427.04       0.00            0.00   \n",
       "std       142.33 1834064.17  750245.52       0.04            0.00   \n",
       "min         1.00       0.00       0.00       0.00            0.00   \n",
       "25%       156.00 1588331.75  216895.00       0.00            0.00   \n",
       "50%       239.00 3176672.50  432289.00       0.00            0.00   \n",
       "75%       335.00 4765048.25 1132509.25       0.00            0.00   \n",
       "max       743.00 6353306.00 2722361.00       1.00            1.00   \n",
       "\n",
       "       type_CASH_IN  type_CASH_OUT  type_DEBIT  type_PAYMENT  type_TRANSFER  \\\n",
       "count    6362620.00     6362620.00  6362620.00    6362620.00     6362620.00   \n",
       "mean           0.22           0.35        0.01          0.34           0.08   \n",
       "std            0.41           0.48        0.08          0.47           0.28   \n",
       "min            0.00           0.00        0.00          0.00           0.00   \n",
       "25%            0.00           0.00        0.00          0.00           0.00   \n",
       "50%            0.00           0.00        0.00          0.00           0.00   \n",
       "75%            0.00           1.00        0.00          1.00           0.00   \n",
       "max            1.00           1.00        1.00          1.00           1.00   \n",
       "\n",
       "       normAmount  normOldbalanceDest  normOldbalanceOrg  \n",
       "count  6362620.00          6362620.00         6362620.00  \n",
       "mean         0.00               -0.00               0.00  \n",
       "std          1.00                1.00               1.00  \n",
       "min         -0.30               -0.32              -0.29  \n",
       "25%         -0.28               -0.32              -0.29  \n",
       "50%         -0.17               -0.28              -0.28  \n",
       "75%          0.05               -0.05              -0.25  \n",
       "max        152.79              104.41              20.34  "
      ]
     },
     "execution_count": 51,
     "metadata": {},
     "output_type": "execute_result"
    }
   ],
   "source": [
    "dfp_dummy.describe()"
   ]
  },
  {
   "cell_type": "code",
   "execution_count": 52,
   "id": "eb680cd5",
   "metadata": {},
   "outputs": [],
   "source": [
    "#Verificação de multicolinearidade\n",
    "\n",
    "#calc_vif(dfp_dummy)"
   ]
  },
  {
   "cell_type": "code",
   "execution_count": 53,
   "id": "bb39cfca",
   "metadata": {},
   "outputs": [
    {
     "data": {
      "text/plain": [
       "<AxesSubplot:>"
      ]
     },
     "execution_count": 53,
     "metadata": {},
     "output_type": "execute_result"
    },
    {
     "data": {
      "image/png": "[encoded data removed]",
      "text/plain": [
       "<Figure size 720x432 with 2 Axes>"
      ]
     },
     "metadata": {
      "needs_background": "light"
     },
     "output_type": "display_data"
    }
   ],
   "source": [
    "#Verificação de correlação\n",
    "\n",
    "corr=dfp_dummy.corr()\n",
    "\n",
    "plt.figure(figsize=(10,6))\n",
    "sns.heatmap(corr,annot=True)"
   ]
  },
  {
   "cell_type": "markdown",
   "id": "95b1e58d",
   "metadata": {},
   "source": [
    "Após os ajustes no dataframe, pude observar que a feature \"nameOrig\" possui a menor correlação com Y. E levando em consideração o insight obtido na fase de DATA UNDERSTANDING, optei por excluí-la do dataframe"
   ]
  },
  {
   "cell_type": "code",
   "execution_count": 54,
   "id": "101ea74f",
   "metadata": {},
   "outputs": [],
   "source": [
    "dfp_dummy.drop(['nameOrig'],axis=1, inplace = True)"
   ]
  },
  {
   "cell_type": "code",
   "execution_count": 55,
   "id": "b6628fcb",
   "metadata": {},
   "outputs": [
    {
     "data": {
      "text/html": [
       "<div>\n",
       "<style scoped>\n",
       "    .dataframe tbody tr th:only-of-type {\n",
       "        vertical-align: middle;\n",
       "    }\n",
       "\n",
       "    .dataframe tbody tr th {\n",
       "        vertical-align: top;\n",
       "    }\n",
       "\n",
       "    .dataframe thead th {\n",
       "        text-align: right;\n",
       "    }\n",
       "</style>\n",
       "<table border=\"1\" class=\"dataframe\">\n",
       "  <thead>\n",
       "    <tr style=\"text-align: right;\">\n",
       "      <th></th>\n",
       "      <th>step</th>\n",
       "      <th>nameDest</th>\n",
       "      <th>isFraud</th>\n",
       "      <th>isFlaggedFraud</th>\n",
       "      <th>type_CASH_IN</th>\n",
       "      <th>type_CASH_OUT</th>\n",
       "      <th>type_DEBIT</th>\n",
       "      <th>type_PAYMENT</th>\n",
       "      <th>type_TRANSFER</th>\n",
       "      <th>normAmount</th>\n",
       "      <th>normOldbalanceDest</th>\n",
       "      <th>normOldbalanceOrg</th>\n",
       "    </tr>\n",
       "  </thead>\n",
       "  <tbody>\n",
       "    <tr>\n",
       "      <th>5084031</th>\n",
       "      <td>355</td>\n",
       "      <td>349125</td>\n",
       "      <td>0</td>\n",
       "      <td>0</td>\n",
       "      <td>0</td>\n",
       "      <td>0</td>\n",
       "      <td>1</td>\n",
       "      <td>0</td>\n",
       "      <td>0</td>\n",
       "      <td>-0.30</td>\n",
       "      <td>-0.18</td>\n",
       "      <td>-0.22</td>\n",
       "    </tr>\n",
       "    <tr>\n",
       "      <th>4293441</th>\n",
       "      <td>307</td>\n",
       "      <td>18569</td>\n",
       "      <td>0</td>\n",
       "      <td>0</td>\n",
       "      <td>0</td>\n",
       "      <td>1</td>\n",
       "      <td>0</td>\n",
       "      <td>0</td>\n",
       "      <td>0</td>\n",
       "      <td>-0.22</td>\n",
       "      <td>-0.07</td>\n",
       "      <td>-0.29</td>\n",
       "    </tr>\n",
       "    <tr>\n",
       "      <th>560242</th>\n",
       "      <td>22</td>\n",
       "      <td>993208</td>\n",
       "      <td>0</td>\n",
       "      <td>0</td>\n",
       "      <td>0</td>\n",
       "      <td>0</td>\n",
       "      <td>0</td>\n",
       "      <td>1</td>\n",
       "      <td>0</td>\n",
       "      <td>-0.27</td>\n",
       "      <td>-0.32</td>\n",
       "      <td>-0.19</td>\n",
       "    </tr>\n",
       "    <tr>\n",
       "      <th>255095</th>\n",
       "      <td>14</td>\n",
       "      <td>183194</td>\n",
       "      <td>0</td>\n",
       "      <td>0</td>\n",
       "      <td>0</td>\n",
       "      <td>1</td>\n",
       "      <td>0</td>\n",
       "      <td>0</td>\n",
       "      <td>0</td>\n",
       "      <td>-0.13</td>\n",
       "      <td>-0.28</td>\n",
       "      <td>-0.29</td>\n",
       "    </tr>\n",
       "    <tr>\n",
       "      <th>3328404</th>\n",
       "      <td>253</td>\n",
       "      <td>38940</td>\n",
       "      <td>0</td>\n",
       "      <td>0</td>\n",
       "      <td>1</td>\n",
       "      <td>0</td>\n",
       "      <td>0</td>\n",
       "      <td>0</td>\n",
       "      <td>0</td>\n",
       "      <td>0.33</td>\n",
       "      <td>0.34</td>\n",
       "      <td>-0.28</td>\n",
       "    </tr>\n",
       "  </tbody>\n",
       "</table>\n",
       "</div>"
      ],
      "text/plain": [
       "         step  nameDest  isFraud  isFlaggedFraud  type_CASH_IN  type_CASH_OUT  \\\n",
       "5084031   355    349125        0               0             0              0   \n",
       "4293441   307     18569        0               0             0              1   \n",
       "560242     22    993208        0               0             0              0   \n",
       "255095     14    183194        0               0             0              1   \n",
       "3328404   253     38940        0               0             1              0   \n",
       "\n",
       "         type_DEBIT  type_PAYMENT  type_TRANSFER  normAmount  \\\n",
       "5084031           1             0              0       -0.30   \n",
       "4293441           0             0              0       -0.22   \n",
       "560242            0             1              0       -0.27   \n",
       "255095            0             0              0       -0.13   \n",
       "3328404           0             0              0        0.33   \n",
       "\n",
       "         normOldbalanceDest  normOldbalanceOrg  \n",
       "5084031               -0.18              -0.22  \n",
       "4293441               -0.07              -0.29  \n",
       "560242                -0.32              -0.19  \n",
       "255095                -0.28              -0.29  \n",
       "3328404                0.34              -0.28  "
      ]
     },
     "execution_count": 55,
     "metadata": {},
     "output_type": "execute_result"
    }
   ],
   "source": [
    "dfp_dummy.sample(5)"
   ]
  },
  {
   "cell_type": "markdown",
   "id": "ac71d981",
   "metadata": {},
   "source": [
    "#### DATAFRAME LABEL ENCODING"
   ]
  },
  {
   "cell_type": "code",
   "execution_count": 56,
   "id": "e885e3ec",
   "metadata": {},
   "outputs": [],
   "source": [
    "dfp_le = dfp.copy()"
   ]
  },
  {
   "cell_type": "code",
   "execution_count": 57,
   "id": "ead232bb",
   "metadata": {},
   "outputs": [
    {
     "name": "stdout",
     "output_type": "stream",
     "text": [
      "<class 'pandas.core.frame.DataFrame'>\n",
      "RangeIndex: 6362620 entries, 0 to 6362619\n",
      "Data columns (total 11 columns):\n",
      " #   Column          Dtype  \n",
      "---  ------          -----  \n",
      " 0   step            int64  \n",
      " 1   type            object \n",
      " 2   amount          float64\n",
      " 3   nameOrig        object \n",
      " 4   oldbalanceOrg   float64\n",
      " 5   newbalanceOrig  float64\n",
      " 6   nameDest        object \n",
      " 7   oldbalanceDest  float64\n",
      " 8   newbalanceDest  float64\n",
      " 9   isFraud         int64  \n",
      " 10  isFlaggedFraud  int64  \n",
      "dtypes: float64(5), int64(3), object(3)\n",
      "memory usage: 534.0+ MB\n"
     ]
    }
   ],
   "source": [
    "dfp_le.info()"
   ]
  },
  {
   "cell_type": "code",
   "execution_count": 58,
   "id": "c1c79eac",
   "metadata": {},
   "outputs": [
    {
     "name": "stdout",
     "output_type": "stream",
     "text": [
      "Index(['type', 'nameOrig', 'nameDest'], dtype='object')\n",
      "<class 'pandas.core.frame.DataFrame'>\n",
      "RangeIndex: 6362620 entries, 0 to 6362619\n",
      "Data columns (total 11 columns):\n",
      " #   Column          Dtype  \n",
      "---  ------          -----  \n",
      " 0   step            int64  \n",
      " 1   type            int32  \n",
      " 2   amount          float64\n",
      " 3   nameOrig        int32  \n",
      " 4   oldbalanceOrg   float64\n",
      " 5   newbalanceOrig  float64\n",
      " 6   nameDest        int32  \n",
      " 7   oldbalanceDest  float64\n",
      " 8   newbalanceDest  float64\n",
      " 9   isFraud         int64  \n",
      " 10  isFlaggedFraud  int64  \n",
      "dtypes: float64(5), int32(3), int64(3)\n",
      "memory usage: 461.2 MB\n",
      "None\n"
     ]
    }
   ],
   "source": [
    "#Transformação das features object através da técnica de Label Encoding\n",
    "\n",
    "objList = dfp_le.select_dtypes(include = \"object\").columns\n",
    "\n",
    "print (objList)\n",
    "\n",
    "le = LabelEncoder()\n",
    "\n",
    "for i in objList:\n",
    "    \n",
    "    dfp_le[i] = le.fit_transform(dfp_le[i].astype(str))\n",
    "\n",
    "print (dfp_le.info())"
   ]
  },
  {
   "cell_type": "code",
   "execution_count": 59,
   "id": "374a4506",
   "metadata": {},
   "outputs": [],
   "source": [
    "#Verificação de multicolinearidade\n",
    "\n",
    "#calc_vif(dfp_le)"
   ]
  },
  {
   "cell_type": "markdown",
   "id": "e4a50fc4",
   "metadata": {},
   "source": [
    "Como os resultados do teste VIF através da técnica Label Encoding foram parecidos com os resultados obtidos dataframe anterior. Optei por seguir a mesma linha de raciocínio para tratar o dataframe.  "
   ]
  },
  {
   "cell_type": "code",
   "execution_count": 60,
   "id": "55c851a5",
   "metadata": {},
   "outputs": [],
   "source": [
    "#Cópia do datraframe antes da exclusão das features para utilização na técnica PCA\n",
    "\n",
    "df_pca_le = dfp_le.copy() "
   ]
  },
  {
   "cell_type": "code",
   "execution_count": 61,
   "id": "4382fcff",
   "metadata": {},
   "outputs": [],
   "source": [
    "#Features \"newbalanceOrig\" e \"newbalanceDest\" apresentaram menor valor de correlação com Y\n",
    "\n",
    "dfp_le.drop(['newbalanceOrig','newbalanceDest'],axis=1, inplace = True)"
   ]
  },
  {
   "cell_type": "code",
   "execution_count": 62,
   "id": "84c1d927",
   "metadata": {},
   "outputs": [],
   "source": [
    "#Normalização de escala das features \"amount\", \"oldbalanceDest\" e \"oldbalanceOrg\"\n",
    "\n",
    "dfp_le[\"normAmount\"] = scaler.fit_transform(dfp_le[\"amount\"].values.reshape(-1, 1))\n",
    "dfp_le[\"normOldbalanceDest\"] = scaler.fit_transform(dfp_le[\"oldbalanceDest\"].values.reshape(-1, 1))\n",
    "dfp_le[\"normOldbalanceOrg\"] = scaler.fit_transform(dfp_le[\"oldbalanceOrg\"].values.reshape(-1, 1))\n",
    "\n",
    "dfp_le.drop(['amount','oldbalanceDest','oldbalanceOrg'], inplace= True, axis= 1)"
   ]
  },
  {
   "cell_type": "code",
   "execution_count": 63,
   "id": "e268a218",
   "metadata": {},
   "outputs": [],
   "source": [
    "#Verificação de multicolinearidade\n",
    "\n",
    "#calc_vif(dfp_le)"
   ]
  },
  {
   "cell_type": "code",
   "execution_count": 64,
   "id": "4ae568f9",
   "metadata": {},
   "outputs": [
    {
     "data": {
      "text/plain": [
       "<AxesSubplot:>"
      ]
     },
     "execution_count": 64,
     "metadata": {},
     "output_type": "execute_result"
    },
    {
     "data": {
      "image/png": "[encoded data removed]",
      "text/plain": [
       "<Figure size 720x432 with 2 Axes>"
      ]
     },
     "metadata": {
      "needs_background": "light"
     },
     "output_type": "display_data"
    }
   ],
   "source": [
    "#Verificação de correlação\n",
    "\n",
    "corr=dfp_le.corr()\n",
    "\n",
    "plt.figure(figsize=(10,6))\n",
    "sns.heatmap(corr,annot=True)"
   ]
  },
  {
   "cell_type": "markdown",
   "id": "a09b44ca",
   "metadata": {},
   "source": [
    "Na mesma linha dos resultados obtidos no dataframe anterior, \"nameOrig\" possui menor correlação com Y. Optei pro excluí-la do dataframe."
   ]
  },
  {
   "cell_type": "code",
   "execution_count": 65,
   "id": "82675fab",
   "metadata": {},
   "outputs": [],
   "source": [
    "dfp_le.drop(['nameOrig'],axis=1, inplace = True)"
   ]
  },
  {
   "cell_type": "code",
   "execution_count": 66,
   "id": "4d43b700",
   "metadata": {},
   "outputs": [
    {
     "data": {
      "text/html": [
       "<div>\n",
       "<style scoped>\n",
       "    .dataframe tbody tr th:only-of-type {\n",
       "        vertical-align: middle;\n",
       "    }\n",
       "\n",
       "    .dataframe tbody tr th {\n",
       "        vertical-align: top;\n",
       "    }\n",
       "\n",
       "    .dataframe thead th {\n",
       "        text-align: right;\n",
       "    }\n",
       "</style>\n",
       "<table border=\"1\" class=\"dataframe\">\n",
       "  <thead>\n",
       "    <tr style=\"text-align: right;\">\n",
       "      <th></th>\n",
       "      <th>step</th>\n",
       "      <th>type</th>\n",
       "      <th>nameDest</th>\n",
       "      <th>isFraud</th>\n",
       "      <th>isFlaggedFraud</th>\n",
       "      <th>normAmount</th>\n",
       "      <th>normOldbalanceDest</th>\n",
       "      <th>normOldbalanceOrg</th>\n",
       "    </tr>\n",
       "  </thead>\n",
       "  <tbody>\n",
       "    <tr>\n",
       "      <th>6269311</th>\n",
       "      <td>619</td>\n",
       "      <td>3</td>\n",
       "      <td>1359662</td>\n",
       "      <td>0</td>\n",
       "      <td>0</td>\n",
       "      <td>-0.28</td>\n",
       "      <td>-0.32</td>\n",
       "      <td>-0.09</td>\n",
       "    </tr>\n",
       "    <tr>\n",
       "      <th>4576051</th>\n",
       "      <td>328</td>\n",
       "      <td>3</td>\n",
       "      <td>602449</td>\n",
       "      <td>0</td>\n",
       "      <td>0</td>\n",
       "      <td>-0.23</td>\n",
       "      <td>-0.32</td>\n",
       "      <td>-0.29</td>\n",
       "    </tr>\n",
       "    <tr>\n",
       "      <th>154473</th>\n",
       "      <td>12</td>\n",
       "      <td>1</td>\n",
       "      <td>467673</td>\n",
       "      <td>0</td>\n",
       "      <td>0</td>\n",
       "      <td>-0.01</td>\n",
       "      <td>0.16</td>\n",
       "      <td>-0.29</td>\n",
       "    </tr>\n",
       "    <tr>\n",
       "      <th>2924532</th>\n",
       "      <td>229</td>\n",
       "      <td>3</td>\n",
       "      <td>1677911</td>\n",
       "      <td>0</td>\n",
       "      <td>0</td>\n",
       "      <td>-0.27</td>\n",
       "      <td>-0.32</td>\n",
       "      <td>-0.28</td>\n",
       "    </tr>\n",
       "    <tr>\n",
       "      <th>4749967</th>\n",
       "      <td>333</td>\n",
       "      <td>1</td>\n",
       "      <td>394356</td>\n",
       "      <td>0</td>\n",
       "      <td>0</td>\n",
       "      <td>-0.02</td>\n",
       "      <td>1.52</td>\n",
       "      <td>-0.29</td>\n",
       "    </tr>\n",
       "  </tbody>\n",
       "</table>\n",
       "</div>"
      ],
      "text/plain": [
       "         step  type  nameDest  isFraud  isFlaggedFraud  normAmount  \\\n",
       "6269311   619     3   1359662        0               0       -0.28   \n",
       "4576051   328     3    602449        0               0       -0.23   \n",
       "154473     12     1    467673        0               0       -0.01   \n",
       "2924532   229     3   1677911        0               0       -0.27   \n",
       "4749967   333     1    394356        0               0       -0.02   \n",
       "\n",
       "         normOldbalanceDest  normOldbalanceOrg  \n",
       "6269311               -0.32              -0.09  \n",
       "4576051               -0.32              -0.29  \n",
       "154473                 0.16              -0.29  \n",
       "2924532               -0.32              -0.28  \n",
       "4749967                1.52              -0.29  "
      ]
     },
     "execution_count": 66,
     "metadata": {},
     "output_type": "execute_result"
    }
   ],
   "source": [
    "dfp_le.sample(5)"
   ]
  },
  {
   "cell_type": "markdown",
   "id": "f4b42573",
   "metadata": {},
   "source": [
    "#### PCA DATAFRAME DUMMY + LABEL ENCODING"
   ]
  },
  {
   "cell_type": "code",
   "execution_count": 67,
   "id": "35e1a553",
   "metadata": {},
   "outputs": [
    {
     "data": {
      "text/html": [
       "<div>\n",
       "<style scoped>\n",
       "    .dataframe tbody tr th:only-of-type {\n",
       "        vertical-align: middle;\n",
       "    }\n",
       "\n",
       "    .dataframe tbody tr th {\n",
       "        vertical-align: top;\n",
       "    }\n",
       "\n",
       "    .dataframe thead th {\n",
       "        text-align: right;\n",
       "    }\n",
       "</style>\n",
       "<table border=\"1\" class=\"dataframe\">\n",
       "  <thead>\n",
       "    <tr style=\"text-align: right;\">\n",
       "      <th></th>\n",
       "      <th>0</th>\n",
       "      <th>1</th>\n",
       "      <th>2</th>\n",
       "      <th>isFraud</th>\n",
       "    </tr>\n",
       "  </thead>\n",
       "  <tbody>\n",
       "    <tr>\n",
       "      <th>5525191</th>\n",
       "      <td>-1825549.35</td>\n",
       "      <td>-957544.62</td>\n",
       "      <td>-2353685.67</td>\n",
       "      <td>0</td>\n",
       "    </tr>\n",
       "    <tr>\n",
       "      <th>5527787</th>\n",
       "      <td>-523838.54</td>\n",
       "      <td>6660983.67</td>\n",
       "      <td>-2385263.70</td>\n",
       "      <td>0</td>\n",
       "    </tr>\n",
       "    <tr>\n",
       "      <th>181692</th>\n",
       "      <td>-877055.02</td>\n",
       "      <td>-1069704.46</td>\n",
       "      <td>1812309.34</td>\n",
       "      <td>0</td>\n",
       "    </tr>\n",
       "    <tr>\n",
       "      <th>4972192</th>\n",
       "      <td>-545141.57</td>\n",
       "      <td>-1111474.90</td>\n",
       "      <td>-1569538.71</td>\n",
       "      <td>0</td>\n",
       "    </tr>\n",
       "    <tr>\n",
       "      <th>1642912</th>\n",
       "      <td>-1800274.19</td>\n",
       "      <td>-658184.89</td>\n",
       "      <td>955735.32</td>\n",
       "      <td>0</td>\n",
       "    </tr>\n",
       "  </tbody>\n",
       "</table>\n",
       "</div>"
      ],
      "text/plain": [
       "                  0           1           2  isFraud\n",
       "5525191 -1825549.35  -957544.62 -2353685.67        0\n",
       "5527787  -523838.54  6660983.67 -2385263.70        0\n",
       "181692   -877055.02 -1069704.46  1812309.34        0\n",
       "4972192  -545141.57 -1111474.90 -1569538.71        0\n",
       "1642912 -1800274.19  -658184.89   955735.32        0"
      ]
     },
     "execution_count": 67,
     "metadata": {},
     "output_type": "execute_result"
    }
   ],
   "source": [
    "#Aplicação do algorítmo PCA no dataframe dummy\n",
    "\n",
    "Y_dummy_pca = df_pca_dummy[\"isFraud\"]\n",
    "X_dummy_pca = df_pca_dummy.drop([\"isFraud\",\"isFlaggedFraud\"], axis= 1)\n",
    "\n",
    "dummy_pca = PCA(n_components=0.95)\n",
    "\n",
    "pca = dummy_pca.fit_transform(X_dummy_pca)\n",
    "\n",
    "df_pca = pd.DataFrame(data = pca)\n",
    "\n",
    "dfp_pca_dummy = pd.concat([df_pca, Y_dummy_pca], axis = 1)\n",
    "\n",
    "dfp_pca_dummy.sample(5)"
   ]
  },
  {
   "cell_type": "markdown",
   "id": "15303537",
   "metadata": {},
   "source": [
    "#### PCA DATAFRAME LABEL ENCODING"
   ]
  },
  {
   "cell_type": "code",
   "execution_count": 68,
   "id": "dcc16c5f",
   "metadata": {},
   "outputs": [
    {
     "data": {
      "text/html": [
       "<div>\n",
       "<style scoped>\n",
       "    .dataframe tbody tr th:only-of-type {\n",
       "        vertical-align: middle;\n",
       "    }\n",
       "\n",
       "    .dataframe tbody tr th {\n",
       "        vertical-align: top;\n",
       "    }\n",
       "\n",
       "    .dataframe thead th {\n",
       "        text-align: right;\n",
       "    }\n",
       "</style>\n",
       "<table border=\"1\" class=\"dataframe\">\n",
       "  <thead>\n",
       "    <tr style=\"text-align: right;\">\n",
       "      <th></th>\n",
       "      <th>0</th>\n",
       "      <th>1</th>\n",
       "      <th>2</th>\n",
       "      <th>isFraud</th>\n",
       "    </tr>\n",
       "  </thead>\n",
       "  <tbody>\n",
       "    <tr>\n",
       "      <th>209261</th>\n",
       "      <td>645425.82</td>\n",
       "      <td>-1185998.88</td>\n",
       "      <td>858080.81</td>\n",
       "      <td>0</td>\n",
       "    </tr>\n",
       "    <tr>\n",
       "      <th>542991</th>\n",
       "      <td>-1862443.35</td>\n",
       "      <td>-983321.36</td>\n",
       "      <td>3039656.82</td>\n",
       "      <td>0</td>\n",
       "    </tr>\n",
       "    <tr>\n",
       "      <th>926123</th>\n",
       "      <td>-1201039.17</td>\n",
       "      <td>-1013422.82</td>\n",
       "      <td>1427942.06</td>\n",
       "      <td>0</td>\n",
       "    </tr>\n",
       "    <tr>\n",
       "      <th>1655030</th>\n",
       "      <td>-1798205.36</td>\n",
       "      <td>-955652.46</td>\n",
       "      <td>-909478.09</td>\n",
       "      <td>0</td>\n",
       "    </tr>\n",
       "    <tr>\n",
       "      <th>2645040</th>\n",
       "      <td>3050799.31</td>\n",
       "      <td>-1613183.21</td>\n",
       "      <td>1346175.82</td>\n",
       "      <td>0</td>\n",
       "    </tr>\n",
       "  </tbody>\n",
       "</table>\n",
       "</div>"
      ],
      "text/plain": [
       "                  0           1          2  isFraud\n",
       "209261    645425.82 -1185998.88  858080.81        0\n",
       "542991  -1862443.35  -983321.36 3039656.82        0\n",
       "926123  -1201039.17 -1013422.82 1427942.06        0\n",
       "1655030 -1798205.36  -955652.46 -909478.09        0\n",
       "2645040  3050799.31 -1613183.21 1346175.82        0"
      ]
     },
     "execution_count": 68,
     "metadata": {},
     "output_type": "execute_result"
    }
   ],
   "source": [
    "#Aplicação do algorítmo PCA no dataframe Label Encoding\n",
    "\n",
    "Y_le_pca = df_pca_le[\"isFraud\"]\n",
    "X_le_pca = df_pca_le.drop([\"isFraud\",\"isFlaggedFraud\"], axis= 1)\n",
    "\n",
    "le_pca = PCA(n_components=0.95)\n",
    "\n",
    "pca = le_pca.fit_transform(X_le_pca)\n",
    "\n",
    "df_pca = pd.DataFrame(data = pca)\n",
    "\n",
    "dfp_pca_le = pd.concat([df_pca, Y_le_pca], axis = 1)\n",
    "\n",
    "dfp_pca_le.sample(5)"
   ]
  },
  {
   "cell_type": "markdown",
   "id": "e18f2d7d",
   "metadata": {},
   "source": [
    "### MODELING"
   ]
  },
  {
   "cell_type": "markdown",
   "id": "2f4be1e2",
   "metadata": {},
   "source": [
    "Nesta etapa irei utilizar os 4 dataframes gerados na fase anterior para treinar os algoritmos de Machine Learning (Decision Tree, Random Forest e XGBoost) "
   ]
  },
  {
   "cell_type": "code",
   "execution_count": 69,
   "id": "58f525b6",
   "metadata": {},
   "outputs": [],
   "source": [
    "#Divisão dos dataframes entre features dependentes e independente\n",
    "\n",
    "Y_dummy = dfp_dummy[\"isFraud\"]\n",
    "X_dummy = dfp_dummy.drop([\"isFraud\"], axis= 1)\n",
    "\n",
    "Y_le = dfp_le[\"isFraud\"]\n",
    "X_le = dfp_le.drop([\"isFraud\"], axis= 1)\n",
    "\n",
    "Y_pca_dummy = dfp_pca_dummy[\"isFraud\"]\n",
    "X_pca_dummy = dfp_pca_dummy.drop([\"isFraud\"], axis= 1)\n",
    "\n",
    "Y_pca_le = dfp_pca_le[\"isFraud\"]\n",
    "X_pca_le = dfp_pca_le.drop([\"isFraud\"], axis= 1)"
   ]
  },
  {
   "cell_type": "code",
   "execution_count": 70,
   "id": "99c5d868",
   "metadata": {},
   "outputs": [
    {
     "name": "stdout",
     "output_type": "stream",
     "text": [
      "X_train_dummy:  (4453834, 11)\n",
      "X_test_dummy:  (1908786, 11)\n"
     ]
    }
   ],
   "source": [
    "#Divisão do dataframe dummy entre treino e teste\n",
    "\n",
    "(X_train_dummy, X_test_dummy, Y_train_dummy, Y_test_dummy) = train_test_split(X_dummy, Y_dummy, test_size= 0.3, random_state= 42)\n",
    "\n",
    "print(\"X_train_dummy: \", X_train_dummy.shape)\n",
    "print(\"X_test_dummy: \", X_test_dummy.shape)"
   ]
  },
  {
   "cell_type": "code",
   "execution_count": 71,
   "id": "5394c7ec",
   "metadata": {},
   "outputs": [
    {
     "name": "stdout",
     "output_type": "stream",
     "text": [
      "X_train_le:  (4453834, 7)\n",
      "X_test_le:  (1908786, 7)\n"
     ]
    }
   ],
   "source": [
    "#Divisão do dataframe label encoding entre treino e teste\n",
    "\n",
    "(X_train_le, X_test_le, Y_train_le, Y_test_le) = train_test_split(X_le, Y_le, test_size= 0.3, random_state= 42)\n",
    "\n",
    "print(\"X_train_le: \", X_train_le.shape)\n",
    "print(\"X_test_le: \", X_test_le.shape)"
   ]
  },
  {
   "cell_type": "code",
   "execution_count": 72,
   "id": "a052accc",
   "metadata": {},
   "outputs": [
    {
     "name": "stdout",
     "output_type": "stream",
     "text": [
      "X_train_pca_dummy:  (4453834, 3)\n",
      "X_test_pca_dummy:  (1908786, 3)\n"
     ]
    }
   ],
   "source": [
    "#Divisão do dataframe pca dummy entre treino e teste\n",
    "\n",
    "(X_train_pca_dummy, X_test_pca_dummy, Y_train_pca_dummy, Y_test_pca_dummy) = train_test_split(X_pca_dummy, Y_pca_dummy, test_size= 0.3, random_state= 42)\n",
    "\n",
    "print(\"X_train_pca_dummy: \", X_train_pca_dummy.shape)\n",
    "print(\"X_test_pca_dummy: \", X_test_pca_dummy.shape)"
   ]
  },
  {
   "cell_type": "code",
   "execution_count": 73,
   "id": "b57abd88",
   "metadata": {},
   "outputs": [
    {
     "name": "stdout",
     "output_type": "stream",
     "text": [
      "X_train_pca_le:  (4453834, 3)\n",
      "X_test_pca_le:  (1908786, 3)\n"
     ]
    }
   ],
   "source": [
    "#Divisão do dataframe pca label encoding entre treino e teste\n",
    "\n",
    "(X_train_pca_le, X_test_pca_le, Y_train_pca_le, Y_test_pca_le) = train_test_split(X_pca_le, Y_pca_le, test_size= 0.3, random_state= 42)\n",
    "\n",
    "print(\"X_train_pca_le: \", X_train_pca_le.shape)\n",
    "print(\"X_test_pca_le: \", X_test_pca_le.shape)"
   ]
  },
  {
   "cell_type": "markdown",
   "id": "f70431ea",
   "metadata": {},
   "source": [
    "#### DECISION TREE"
   ]
  },
  {
   "cell_type": "markdown",
   "id": "f7192f5c",
   "metadata": {},
   "source": [
    "###### DUMMY"
   ]
  },
  {
   "cell_type": "code",
   "execution_count": 74,
   "id": "50b7006b",
   "metadata": {},
   "outputs": [
    {
     "name": "stdout",
     "output_type": "stream",
     "text": [
      "Decision Tree Dummy Score:  99.93000786887582\n",
      "CPU times: total: 1min 33s\n",
      "Wall time: 1min 36s\n"
     ]
    }
   ],
   "source": [
    "%%time\n",
    "\n",
    "dt_d = DecisionTreeClassifier()\n",
    "\n",
    "dt_d.fit(X_train_dummy, Y_train_dummy)\n",
    "\n",
    "Y_pred_dt_dummy = dt_d.predict(X_test_dummy)\n",
    "\n",
    "dt_score_dummy = dt_d.score(X_test_dummy, Y_test_dummy) * 100\n",
    "\n",
    "print(\"Decision Tree Dummy Score: \", dt_score_dummy)"
   ]
  },
  {
   "cell_type": "markdown",
   "id": "cde07ff3",
   "metadata": {},
   "source": [
    "##### LABEL ENCODING"
   ]
  },
  {
   "cell_type": "code",
   "execution_count": 75,
   "id": "67989969",
   "metadata": {},
   "outputs": [
    {
     "name": "stdout",
     "output_type": "stream",
     "text": [
      "Decision Tree Label Enconding Score:  99.92953636499848\n",
      "CPU times: total: 1min 49s\n",
      "Wall time: 1min 55s\n"
     ]
    }
   ],
   "source": [
    "%%time\n",
    "\n",
    "dt_le = DecisionTreeClassifier()\n",
    "\n",
    "dt_le.fit(X_train_le, Y_train_le)\n",
    "\n",
    "Y_pred_dt_le = dt_le.predict(X_test_le)\n",
    "\n",
    "dt_score_le = dt_le.score(X_test_le, Y_test_le) * 100\n",
    "\n",
    "print(\"Decision Tree Label Enconding Score: \", dt_score_le)"
   ]
  },
  {
   "cell_type": "markdown",
   "id": "18e2a010",
   "metadata": {},
   "source": [
    "###### PCA DUMMY"
   ]
  },
  {
   "cell_type": "code",
   "execution_count": 76,
   "id": "51cae48e",
   "metadata": {},
   "outputs": [
    {
     "name": "stdout",
     "output_type": "stream",
     "text": [
      "Decision Tree PCA Dummy Score:  99.75057444889055\n",
      "CPU times: total: 1min 45s\n",
      "Wall time: 1min 48s\n"
     ]
    }
   ],
   "source": [
    "%%time\n",
    "\n",
    "dt_pca_d = DecisionTreeClassifier()\n",
    "\n",
    "dt_pca_d.fit(X_train_pca_dummy, Y_train_pca_dummy)\n",
    "\n",
    "Y_pred_dt_pca_dummy = dt_pca_d.predict(X_test_pca_dummy)\n",
    "\n",
    "dt_score_pca_dummy = dt_pca_d.score(X_test_pca_dummy, Y_test_pca_dummy) * 100\n",
    "\n",
    "print(\"Decision Tree PCA Dummy Score: \", dt_score_pca_dummy)"
   ]
  },
  {
   "cell_type": "markdown",
   "id": "19c403e0",
   "metadata": {},
   "source": [
    "##### PCA LABEL ENCODING"
   ]
  },
  {
   "cell_type": "code",
   "execution_count": 77,
   "id": "960a7333",
   "metadata": {},
   "outputs": [
    {
     "name": "stdout",
     "output_type": "stream",
     "text": [
      "Decision Tree PCA Label Enconding Score:  99.75204134984226\n",
      "CPU times: total: 1min 47s\n",
      "Wall time: 1min 55s\n"
     ]
    }
   ],
   "source": [
    "%%time\n",
    "\n",
    "dt_pca_le = DecisionTreeClassifier()\n",
    "\n",
    "dt_pca_le.fit(X_train_pca_le, Y_train_pca_le)\n",
    "\n",
    "Y_pred_dt_pca_le = dt_pca_le.predict(X_test_pca_le)\n",
    "\n",
    "dt_score_pca_le = dt_pca_le.score(X_test_pca_le, Y_test_pca_le) * 100\n",
    "\n",
    "print(\"Decision Tree PCA Label Enconding Score: \", dt_score_pca_le)"
   ]
  },
  {
   "cell_type": "markdown",
   "id": "20c3c7e8",
   "metadata": {},
   "source": [
    "#### RANDOM FOREST"
   ]
  },
  {
   "cell_type": "markdown",
   "id": "6b50b69d",
   "metadata": {},
   "source": [
    "##### DUMMY"
   ]
  },
  {
   "cell_type": "code",
   "execution_count": null,
   "id": "79052f51",
   "metadata": {},
   "outputs": [],
   "source": [
    "%%time\n",
    "\n",
    "rf_d = RandomForestClassifier(n_estimators= 100) \n",
    "\n",
    "rf_d.fit(X_train_dummy, Y_train_dummy)\n",
    "\n",
    "Y_pred_rf_dummy = rf_d.predict(X_test_dummy)\n",
    "\n",
    "rf_score_dummy = rf_d.score(X_test_dummy, Y_test_dummy) * 100\n",
    "\n",
    "print(\"Random Forest Dummy Score: \", rf_score_dummy)"
   ]
  },
  {
   "cell_type": "markdown",
   "id": "7894d90c",
   "metadata": {},
   "source": [
    "##### LABEL ENCODING"
   ]
  },
  {
   "cell_type": "code",
   "execution_count": null,
   "id": "4cc84d07",
   "metadata": {},
   "outputs": [],
   "source": [
    "%%time\n",
    "\n",
    "rf_le = RandomForestClassifier(n_estimators= 100)\n",
    "\n",
    "rf_le.fit(X_train_le, Y_train_le)\n",
    "\n",
    "Y_pred_rf_le = rf_le.predict(X_test_le)\n",
    "\n",
    "rf_score_le = rf_le.score(X_test_le, Y_test_le) * 100\n",
    "\n",
    "print(\"Random Forest Label Encoding Score: \", rf_score_le)"
   ]
  },
  {
   "cell_type": "markdown",
   "id": "7650cfb4",
   "metadata": {},
   "source": [
    "##### PCA DUMMMY"
   ]
  },
  {
   "cell_type": "code",
   "execution_count": null,
   "id": "814427c3",
   "metadata": {},
   "outputs": [],
   "source": [
    "%%time\n",
    "\n",
    "rf_pca_d = RandomForestClassifier(n_estimators= 100)\n",
    "\n",
    "rf_pca_d.fit(X_train_pca_dummy, Y_train_pca_dummy)\n",
    "\n",
    "Y_pred_rf_pca_dummy = rf_pca_d.predict(X_test_pca_dummy)\n",
    "\n",
    "rf_score_pca_dummy = rf_pca_d.score(X_test_pca_dummy, Y_test_pca_dummy) * 100\n",
    "\n",
    "print(\"Random Forest PCA Dummy Score: \", rf_score_pca_dummy)"
   ]
  },
  {
   "cell_type": "markdown",
   "id": "f86864b2",
   "metadata": {},
   "source": [
    "##### PCA LABEL ENCODING"
   ]
  },
  {
   "cell_type": "code",
   "execution_count": null,
   "id": "23ddb0f2",
   "metadata": {},
   "outputs": [],
   "source": [
    "%%time\n",
    "\n",
    "rf_pca_le = RandomForestClassifier(n_estimators= 100)\n",
    "\n",
    "rf_pca_le.fit(X_train_pca_le, Y_train_pca_le)\n",
    "\n",
    "Y_pred_rf_pca_le = rf_pca_le.predict(X_test_pca_le)\n",
    "\n",
    "rf_score_pca_le = rf_pca_le.score(X_test_pca_le, Y_test_pca_le) * 100\n",
    "\n",
    "print(\"Random Forest Label PCA Encoding Score: \", rf_score_pca_le)"
   ]
  },
  {
   "cell_type": "markdown",
   "id": "47404b7f",
   "metadata": {},
   "source": [
    "#### XGBOOST"
   ]
  },
  {
   "cell_type": "markdown",
   "id": "3e1b688e",
   "metadata": {},
   "source": [
    "##### DUMMY"
   ]
  },
  {
   "cell_type": "code",
   "execution_count": null,
   "id": "4bddcfa3",
   "metadata": {},
   "outputs": [],
   "source": [
    "%%time\n",
    "\n",
    "xgb_dummy  = xgb.XGBClassifier()\n",
    "\n",
    "xgb_dummy.fit(X_train_dummy, Y_train_dummy)\n",
    "\n",
    "Y_pred_xgb_dummy = xgb_dummy.predict(X_test_dummy)\n",
    "\n",
    "xgb_score_dummy = xgb_dummy.score(X_test_dummy, Y_test_dummy)*100\n",
    "\n",
    "print(\"XGBOOST Dummy Score: \", xgb_score_dummy)"
   ]
  },
  {
   "cell_type": "markdown",
   "id": "fcb4e1b0",
   "metadata": {},
   "source": [
    "##### LABEL ENCODING"
   ]
  },
  {
   "cell_type": "code",
   "execution_count": null,
   "id": "557c16c6",
   "metadata": {},
   "outputs": [],
   "source": [
    "%%time\n",
    "\n",
    "xgb_le  = xgb.XGBClassifier()\n",
    "\n",
    "xgb_le.fit(X_train_le, Y_train_le)\n",
    "\n",
    "Y_pred_xgb_le = xgb_le.predict(X_test_le)\n",
    "\n",
    "xgb_score_le = xgb_le.score(X_test_le, Y_test_le)*100\n",
    "\n",
    "print(\"XGBOOST Label Encoding Score: \", xgb_score_le)"
   ]
  },
  {
   "cell_type": "markdown",
   "id": "42e87f92",
   "metadata": {},
   "source": [
    "##### PCA DUMMY"
   ]
  },
  {
   "cell_type": "code",
   "execution_count": null,
   "id": "8163fda5",
   "metadata": {},
   "outputs": [],
   "source": [
    "%%time\n",
    "\n",
    "xgb_pca_dummy  = xgb.XGBClassifier()\n",
    "\n",
    "xgb_pca_dummy.fit(X_train_pca_dummy, Y_train_pca_dummy)\n",
    "\n",
    "Y_pred_xgb_pca_dummy = xgb_pca_dummy.predict(X_test_pca_dummy)\n",
    "\n",
    "xgb_score_pca_dummy = xgb_pca_dummy.score(X_test_pca_dummy, Y_test_pca_dummy)*100\n",
    "\n",
    "print(\"XGBOOST PCA Dummy Score: \", xgb_score_pca_dummy)"
   ]
  },
  {
   "cell_type": "markdown",
   "id": "43dd239f",
   "metadata": {},
   "source": [
    "##### PCA LABEL ENCODING"
   ]
  },
  {
   "cell_type": "code",
   "execution_count": null,
   "id": "8f5c4fba",
   "metadata": {},
   "outputs": [],
   "source": [
    "%%time\n",
    "\n",
    "xgb_pca_le  = xgb.XGBClassifier()\n",
    "\n",
    "xgb_pca_le.fit(X_train_pca_le, Y_train_pca_le)\n",
    "\n",
    "Y_pred_xgb_pca_le = xgb_pca_le.predict(X_test_pca_le)\n",
    "\n",
    "xgb_score_pca_le = xgb_pca_le.score(X_test_pca_le, Y_test_pca_le)*100\n",
    "\n",
    "print(\"XGBOOST PCA Label Encoding Score: \", xgb_score_pca_le)"
   ]
  },
  {
   "cell_type": "markdown",
   "id": "bd83b345",
   "metadata": {},
   "source": [
    "### EVALUATION"
   ]
  },
  {
   "cell_type": "markdown",
   "id": "438d2f87",
   "metadata": {},
   "source": [
    "Nesta etapa irei levantar os indicadores de desempenho dos algoritmos com cada um dos dataframes para posterior comparação."
   ]
  },
  {
   "cell_type": "code",
   "execution_count": null,
   "id": "e1463216",
   "metadata": {},
   "outputs": [],
   "source": [
    "#Matriz de confusão\n",
    "\n",
    "print(\"##############################\")\n",
    "print(\"TP,FP,TN,FN - Decision Tree - Base Dummy\")\n",
    "print(\"..............................\")\n",
    "\n",
    "tn, fp, fn, tp = confusion_matrix(Y_test_dummy, Y_pred_dt_dummy).ravel()\n",
    "print(f'True Positives: {tp}')\n",
    "print(f'False Positives: {fp}')\n",
    "print(f'True Negatives: {tn}')\n",
    "print(f'False Negatives: {fn}')\n",
    "\n",
    "print(\"------------------------------\")\n",
    "print(\"TP,FP,TN,FN - Decision Tree - Base Label Encoding\")\n",
    "print(\"..............................\")\n",
    "\n",
    "tn, fp, fn, tp = confusion_matrix(Y_test_le, Y_pred_dt_le).ravel()\n",
    "print(f'True Positives: {tp}')\n",
    "print(f'False Positives: {fp}')\n",
    "print(f'True Negatives: {tn}')\n",
    "print(f'False Negatives: {fn}')\n",
    "\n",
    "print(\"------------------------------\")\n",
    "print(\"TP,FP,TN,FN - Decision Tree - PCA - Base Dummy\")\n",
    "print(\"..............................\")\n",
    "\n",
    "tn, fp, fn, tp = confusion_matrix(Y_test_pca_dummy, Y_pred_dt_pca_dummy).ravel()\n",
    "print(f'True Positives: {tp}')\n",
    "print(f'False Positives: {fp}')\n",
    "print(f'True Negatives: {tn}')\n",
    "print(f'False Negatives: {fn}')\n",
    "\n",
    "print(\"------------------------------\")\n",
    "print(\"TP,FP,TN,FN - Decision Tree - PCA - Base Label Encoding\")\n",
    "print(\"..............................\")\n",
    "\n",
    "tn, fp, fn, tp = confusion_matrix(Y_test_pca_le, Y_pred_dt_pca_le).ravel()\n",
    "print(f'True Positives: {tp}')\n",
    "print(f'False Positives: {fp}')\n",
    "print(f'True Negatives: {tn}')\n",
    "print(f'False Negatives: {fn}')\n",
    "\n",
    "print(\"##############################\")\n",
    "print(\"TP,FP,TN,FN - Random Forest - Base Dummy\")\n",
    "print(\"..............................\")\n",
    "\n",
    "tn, fp, fn, tp = confusion_matrix(Y_test_dummy, Y_pred_rf_dummy).ravel()\n",
    "print(f'True Positives: {tp}')\n",
    "print(f'False Positives: {fp}')\n",
    "print(f'True Negatives: {tn}')\n",
    "print(f'False Negatives: {fn}')\n",
    "\n",
    "print(\"------------------------------\")\n",
    "print(\"TP,FP,TN,FN - Random Forest - Base Label Encoding\")\n",
    "print(\"..............................\")\n",
    "\n",
    "tn, fp, fn, tp = confusion_matrix(Y_test_le, Y_pred_rf_le).ravel()\n",
    "print(f'True Positives: {tp}')\n",
    "print(f'False Positives: {fp}')\n",
    "print(f'True Negatives: {tn}')\n",
    "print(f'False Negatives: {fn}')\n",
    "\n",
    "print(\"------------------------------\")\n",
    "print(\"TP,FP,TN,FN - Random Forest - PCA - Base Dummy\")\n",
    "print(\"..............................\")\n",
    "\n",
    "tn, fp, fn, tp = confusion_matrix(Y_test_pca_dummy, Y_pred_rf_pca_dummy).ravel()\n",
    "print(f'True Positives: {tp}')\n",
    "print(f'False Positives: {fp}')\n",
    "print(f'True Negatives: {tn}')\n",
    "print(f'False Negatives: {fn}')\n",
    "\n",
    "print(\"------------------------------\")\n",
    "print(\"TP,FP,TN,FN - Random Forest - PCA - Base Label Encoding\")\n",
    "print(\"..............................\")\n",
    "\n",
    "tn, fp, fn, tp = confusion_matrix(Y_test_pca_le, Y_pred_rf_pca_le).ravel()\n",
    "print(f'True Positives: {tp}')\n",
    "print(f'False Positives: {fp}')\n",
    "print(f'True Negatives: {tn}')\n",
    "print(f'False Negatives: {fn}')\n",
    "\n",
    "print(\"##############################\")\n",
    "print(\"TP,FP,TN,FN - XGBoost - Base Dummy\")\n",
    "print(\"..............................\")\n",
    "\n",
    "tn, fp, fn, tp = confusion_matrix(Y_test_dummy, Y_pred_xgb_dummy).ravel()\n",
    "print(f'True Positives: {tp}')\n",
    "print(f'False Positives: {fp}')\n",
    "print(f'True Negatives: {tn}')\n",
    "print(f'False Negatives: {fn}')\n",
    "\n",
    "print(\"------------------------------\")\n",
    "print(\"TP,FP,TN,FN - XGBoost - Base Label Encoding\")\n",
    "print(\"..............................\")\n",
    "\n",
    "tn, fp, fn, tp = confusion_matrix(Y_test_le, Y_pred_xgb_le).ravel()\n",
    "print(f'True Positives: {tp}')\n",
    "print(f'False Positives: {fp}')\n",
    "print(f'True Negatives: {tn}')\n",
    "print(f'False Negatives: {fn}')\n",
    "\n",
    "print(\"------------------------------\")\n",
    "print(\"TP,FP,TN,FN - XGBoost - PCA - Base Dummy\")\n",
    "print(\"..............................\")\n",
    "\n",
    "tn, fp, fn, tp = confusion_matrix(Y_test_pca_dummy, Y_pred_xgb_pca_dummy).ravel()\n",
    "print(f'True Positives: {tp}')\n",
    "print(f'False Positives: {fp}')\n",
    "print(f'True Negatives: {tn}')\n",
    "print(f'False Negatives: {fn}')\n",
    "\n",
    "print(\"------------------------------\")\n",
    "print(\"TP,FP,TN,FN - XGBoost - PCA - Base Label Encoding\")\n",
    "print(\"..............................\")\n",
    "\n",
    "tn, fp, fn, tp = confusion_matrix(Y_test_pca_le, Y_pred_xgb_pca_le).ravel()\n",
    "print(f'True Positives: {tp}')\n",
    "print(f'False Positives: {fp}')\n",
    "print(f'True Negatives: {tn}')\n",
    "print(f'False Negatives: {fn}')"
   ]
  },
  {
   "cell_type": "code",
   "execution_count": null,
   "id": "5d0f8a4e",
   "metadata": {},
   "outputs": [],
   "source": [
    "# Gráfico para matriz de confusão Decision Tree \n",
    "\n",
    "confusion_matrix_dt_dummy = confusion_matrix(Y_test_dummy, Y_pred_dt_dummy.round())\n",
    "\n",
    "disp = ConfusionMatrixDisplay(confusion_matrix=confusion_matrix_dt_dummy)\n",
    "disp.plot()\n",
    "plt.title('Confusion Matrix - DT - Dummy')\n",
    "plt.show()\n",
    "\n",
    "confusion_matrix_dt_le = confusion_matrix(Y_test_le, Y_pred_dt_le.round())\n",
    "\n",
    "disp = ConfusionMatrixDisplay(confusion_matrix=confusion_matrix_dt_le)\n",
    "disp.plot()\n",
    "plt.title('Confusion Matrix - DT - Label Encoding')\n",
    "plt.show()\n",
    "\n",
    "confusion_matrix_dt_pca_dummy = confusion_matrix(Y_test_pca_dummy, Y_pred_dt_pca_dummy.round())\n",
    "\n",
    "disp = ConfusionMatrixDisplay(confusion_matrix=confusion_matrix_dt_pca_dummy)\n",
    "disp.plot()\n",
    "plt.title('Confusion Matrix - DT - PCA - Dummy')\n",
    "plt.show()\n",
    "\n",
    "confusion_matrix_dt_pca_le = confusion_matrix(Y_test_pca_le, Y_pred_dt_pca_le.round())\n",
    "\n",
    "disp = ConfusionMatrixDisplay(confusion_matrix=confusion_matrix_dt_pca_le)\n",
    "disp.plot()\n",
    "plt.title('Confusion Matrix - DT - PCA - Label Encoding')\n",
    "plt.show()"
   ]
  },
  {
   "cell_type": "code",
   "execution_count": null,
   "id": "39ac747e",
   "metadata": {},
   "outputs": [],
   "source": [
    "# Gráfico para matriz de confusão Random Forest\n",
    "\n",
    "confusion_matrix_rf_dummy = confusion_matrix(Y_test_dummy, Y_pred_rf_dummy.round())\n",
    "\n",
    "disp = ConfusionMatrixDisplay(confusion_matrix=confusion_matrix_rf_dummy)\n",
    "disp.plot()\n",
    "plt.title('Confusion Matrix - RF - Dummy')\n",
    "plt.show()\n",
    "\n",
    "confusion_matrix_rf_le = confusion_matrix(Y_test_le, Y_pred_rf_le.round())\n",
    "\n",
    "disp = ConfusionMatrixDisplay(confusion_matrix=confusion_matrix_rf_le)\n",
    "disp.plot()\n",
    "plt.title('Confusion Matrix - RF - Label Encoding')\n",
    "plt.show()\n",
    "\n",
    "confusion_matrix_rf_pca_dummy = confusion_matrix(Y_test_pca_dummy, Y_pred_rf_pca_dummy.round())\n",
    "\n",
    "disp = ConfusionMatrixDisplay(confusion_matrix=confusion_matrix_rf_pca_dummy)\n",
    "disp.plot()\n",
    "plt.title('Confusion Matrix - RF - PCA - Dummy')\n",
    "plt.show()\n",
    "\n",
    "confusion_matrix_rf_pca_le = confusion_matrix(Y_test_pca_le, Y_pred_rf_pca_le.round())\n",
    "\n",
    "disp = ConfusionMatrixDisplay(confusion_matrix=confusion_matrix_rf_pca_le)\n",
    "disp.plot()\n",
    "plt.title('Confusion Matrix - RF - PCA - Label Encoding')\n",
    "plt.show()"
   ]
  },
  {
   "cell_type": "code",
   "execution_count": null,
   "id": "76399f0f",
   "metadata": {},
   "outputs": [],
   "source": [
    "# Gráfico para matriz de confusão XGBoost \n",
    "\n",
    "confusion_matrix_xgb_dummy = confusion_matrix(Y_test_dummy, Y_pred_xgb_dummy.round())\n",
    "\n",
    "disp = ConfusionMatrixDisplay(confusion_matrix=confusion_matrix_xgb_dummy)\n",
    "disp.plot()\n",
    "plt.title('Confusion Matrix - XGB - Dummy')\n",
    "plt.show()\n",
    "\n",
    "confusion_matrix_xgb_le = confusion_matrix(Y_test_le, Y_pred_xgb_le.round())\n",
    "\n",
    "disp = ConfusionMatrixDisplay(confusion_matrix=confusion_matrix_xgb_le)\n",
    "disp.plot()\n",
    "plt.title('Confusion Matrix - XGB - Label Encoding')\n",
    "plt.show()\n",
    "\n",
    "confusion_matrix_xgb_pca_dummy = confusion_matrix(Y_test_pca_dummy, Y_pred_xgb_pca_dummy.round())\n",
    "\n",
    "disp = ConfusionMatrixDisplay(confusion_matrix=confusion_matrix_xgb_pca_dummy)\n",
    "disp.plot()\n",
    "plt.title('Confusion Matrix - XGB - PCA - Dummy')\n",
    "plt.show()\n",
    "\n",
    "confusion_matrix_xgb_pca_le = confusion_matrix(Y_test_pca_le, Y_pred_xgb_pca_le.round())\n",
    "\n",
    "disp = ConfusionMatrixDisplay(confusion_matrix=confusion_matrix_xgb_pca_le)\n",
    "disp.plot()\n",
    "plt.title('Confusion Matrix - XGB - PCA - Label Encoding')\n",
    "plt.show()"
   ]
  },
  {
   "cell_type": "code",
   "execution_count": null,
   "id": "a5b6c381",
   "metadata": {},
   "outputs": [],
   "source": [
    "# Indicador F1-Score\n",
    "\n",
    "classification_report_dt_dummy = classification_report(Y_test_dummy, Y_pred_dt_dummy)\n",
    "print(\"Classification Report - Decision Tree - Base Dummy\")\n",
    "print(classification_report_dt_dummy)\n",
    "\n",
    "print(\"----------------------------------------------------------------------------------------\")\n",
    "\n",
    "classification_report_dt_le = classification_report(Y_test_le, Y_pred_dt_le)\n",
    "print(\"Classification Report - Decision Tree - Base Label Encoding\")\n",
    "print(classification_report_dt_le)\n",
    "\n",
    "print(\"----------------------------------------------------------------------------------------\")\n",
    "\n",
    "classification_report_dt_pca_dummy = classification_report(Y_test_pca_dummy, Y_pred_dt_pca_dummy)\n",
    "print(\"Classification Report - Decision Tree - PCA - Base Dummy\")\n",
    "print(classification_report_dt_pca_dummy)\n",
    "\n",
    "print(\"----------------------------------------------------------------------------------------\")\n",
    "\n",
    "classification_report_dt_pca_le = classification_report(Y_test_pca_le, Y_pred_dt_pca_le)\n",
    "print(\"Classification Report - Decision Tree - PCA - Base Label Encoding\")\n",
    "print(classification_report_dt_pca_le)\n",
    "\n",
    "print(\"#######################################################################################\")\n",
    "\n",
    "classification_report_rf_dummy = classification_report(Y_test_dummy, Y_pred_rf_dummy)\n",
    "print(\"Classification Report - Random Forest - Dummy\")\n",
    "print(classification_report_rf_dummy)\n",
    "\n",
    "print(\"----------------------------------------------------------------------------------------\")\n",
    "\n",
    "classification_report_rf_le = classification_report(Y_test_le, Y_pred_rf_le)\n",
    "print(\"Classification Report - Random Forest - Base Label Encoding\")\n",
    "print(classification_report_rf_le)\n",
    "\n",
    "print(\"----------------------------------------------------------------------------------------\")\n",
    "\n",
    "classification_report_rf_pca_dummy = classification_report(Y_test_pca_dummy, Y_pred_rf_pca_dummy)\n",
    "print(\"Classification Report - Random Forest - PCA - Dummy\")\n",
    "print(classification_report_rf_pca_dummy)\n",
    "\n",
    "print(\"----------------------------------------------------------------------------------------\")\n",
    "\n",
    "classification_report_rf_pca_le = classification_report(Y_test_pca_le, Y_pred_rf_pca_le)\n",
    "print(\"Classification Report - Random Forest - PCA - Base Label Encoding\")\n",
    "print(classification_report_rf_pca_le)\n",
    "\n",
    "print(\"#######################################################################################\")\n",
    "\n",
    "classification_report_xgb_dummy = classification_report(Y_test_dummy, Y_pred_xgb_dummy)\n",
    "print(\"Classification Report - XGBoost - Dummy\")\n",
    "print(classification_report_xgb_dummy)\n",
    "\n",
    "print(\"----------------------------------------------------------------------------------------\")\n",
    "\n",
    "classification_report_xgb_le = classification_report(Y_test_le, Y_pred_xgb_le)\n",
    "print(\"Classification Report - XGBoost - Base Label Encoding\")\n",
    "print(classification_report_xgb_le)\n",
    "\n",
    "print(\"----------------------------------------------------------------------------------------\")\n",
    "\n",
    "classification_report_xgb_pca_dummy = classification_report(Y_test_pca_dummy, Y_pred_xgb_pca_dummy)\n",
    "print(\"Classification Report - XGBoost - PCA - Dummy\")\n",
    "print(classification_report_xgb_pca_dummy)\n",
    "\n",
    "print(\"----------------------------------------------------------------------------------------\")\n",
    "\n",
    "classification_report_xgb_pca_le = classification_report(Y_test_pca_le, Y_pred_xgb_pca_le)\n",
    "print(\"Classification Report - XGBoost - PCA - Base Label Encoding\")\n",
    "print(classification_report_xgb_pca_le)"
   ]
  },
  {
   "cell_type": "code",
   "execution_count": null,
   "id": "62f2775a",
   "metadata": {},
   "outputs": [],
   "source": [
    "# Gráfico curva ROC Decision Tree \n",
    "\n",
    "fpr, tpr, threshold = metrics.roc_curve(Y_test_dummy, Y_pred_dt_dummy)\n",
    "roc_auc = metrics.auc(fpr, tpr)\n",
    "\n",
    "plt.title('ROC - DT - Dummy')\n",
    "plt.plot(fpr, tpr, 'b', label = 'AUC = %0.2f' % roc_auc)\n",
    "plt.legend(loc = 'lower right')\n",
    "plt.plot([0, 1], [0, 1],'r--')\n",
    "plt.xlim([0, 1])\n",
    "plt.ylim([0, 1])\n",
    "plt.ylabel('True Positive Rate')\n",
    "plt.xlabel('False Positive Rate')\n",
    "plt.show()\n",
    "\n",
    "fpr, tpr, threshold = metrics.roc_curve(Y_test_le, Y_pred_dt_le)\n",
    "roc_auc = metrics.auc(fpr, tpr)\n",
    "\n",
    "plt.title('ROC - DT - Label Encoding')\n",
    "plt.plot(fpr, tpr, 'b', label = 'AUC = %0.2f' % roc_auc)\n",
    "plt.legend(loc = 'lower right')\n",
    "plt.plot([0, 1], [0, 1],'r--')\n",
    "plt.xlim([0, 1])\n",
    "plt.ylim([0, 1])\n",
    "plt.ylabel('True Positive Rate')\n",
    "plt.xlabel('False Positive Rate')\n",
    "plt.show()\n",
    "\n",
    "fpr, tpr, threshold = metrics.roc_curve(Y_test_pca_dummy, Y_pred_dt_pca_dummy)\n",
    "roc_auc = metrics.auc(fpr, tpr)\n",
    "\n",
    "plt.title('ROC - DT - PCA - Dummy')\n",
    "plt.plot(fpr, tpr, 'b', label = 'AUC = %0.2f' % roc_auc)\n",
    "plt.legend(loc = 'lower right')\n",
    "plt.plot([0, 1], [0, 1],'r--')\n",
    "plt.xlim([0, 1])\n",
    "plt.ylim([0, 1])\n",
    "plt.ylabel('True Positive Rate')\n",
    "plt.xlabel('False Positive Rate')\n",
    "plt.show()\n",
    "\n",
    "fpr, tpr, threshold = metrics.roc_curve(Y_test_pca_le, Y_pred_dt_pca_le)\n",
    "roc_auc = metrics.auc(fpr, tpr)\n",
    "\n",
    "plt.title('ROC - DT - PCA - Label Encoding')\n",
    "plt.plot(fpr, tpr, 'b', label = 'AUC = %0.2f' % roc_auc)\n",
    "plt.legend(loc = 'lower right')\n",
    "plt.plot([0, 1], [0, 1],'r--')\n",
    "plt.xlim([0, 1])\n",
    "plt.ylim([0, 1])\n",
    "plt.ylabel('True Positive Rate')\n",
    "plt.xlabel('False Positive Rate')\n",
    "plt.show()"
   ]
  },
  {
   "cell_type": "code",
   "execution_count": null,
   "id": "f42a48aa",
   "metadata": {},
   "outputs": [],
   "source": [
    "# Gráfico curva ROC Random Forest\n",
    "\n",
    "fpr, tpr, threshold = metrics.roc_curve(Y_test_dummy, Y_pred_rf_dummy)\n",
    "roc_auc = metrics.auc(fpr, tpr)\n",
    "\n",
    "plt.title('ROC - RF - Dummy')\n",
    "plt.plot(fpr, tpr, 'b', label = 'AUC = %0.2f' % roc_auc)\n",
    "plt.legend(loc = 'lower right')\n",
    "plt.plot([0, 1], [0, 1],'r--')\n",
    "plt.xlim([0, 1])\n",
    "plt.ylim([0, 1])\n",
    "plt.ylabel('True Positive Rate')\n",
    "plt.xlabel('False Positive Rate')\n",
    "plt.show()\n",
    "\n",
    "fpr, tpr, threshold = metrics.roc_curve(Y_test_le, Y_pred_rf_le)\n",
    "roc_auc = metrics.auc(fpr, tpr)\n",
    "\n",
    "plt.title('ROC - RF - Label Encoding')\n",
    "plt.plot(fpr, tpr, 'b', label = 'AUC = %0.2f' % roc_auc)\n",
    "plt.legend(loc = 'lower right')\n",
    "plt.plot([0, 1], [0, 1],'r--')\n",
    "plt.xlim([0, 1])\n",
    "plt.ylim([0, 1])\n",
    "plt.ylabel('True Positive Rate')\n",
    "plt.xlabel('False Positive Rate')\n",
    "plt.show()\n",
    "\n",
    "fpr, tpr, threshold = metrics.roc_curve(Y_test_pca_dummy, Y_pred_rf_pca_dummy)\n",
    "roc_auc = metrics.auc(fpr, tpr)\n",
    "\n",
    "plt.title('ROC - RF - PCA - Dummy')\n",
    "plt.plot(fpr, tpr, 'b', label = 'AUC = %0.2f' % roc_auc)\n",
    "plt.legend(loc = 'lower right')\n",
    "plt.plot([0, 1], [0, 1],'r--')\n",
    "plt.xlim([0, 1])\n",
    "plt.ylim([0, 1])\n",
    "plt.ylabel('True Positive Rate')\n",
    "plt.xlabel('False Positive Rate')\n",
    "plt.show()\n",
    "\n",
    "fpr, tpr, threshold = metrics.roc_curve(Y_test_pca_le, Y_pred_rf_pca_le)\n",
    "roc_auc = metrics.auc(fpr, tpr)\n",
    "\n",
    "plt.title('ROC - RF - PCA - Label Encoding')\n",
    "plt.plot(fpr, tpr, 'b', label = 'AUC = %0.2f' % roc_auc)\n",
    "plt.legend(loc = 'lower right')\n",
    "plt.plot([0, 1], [0, 1],'r--')\n",
    "plt.xlim([0, 1])\n",
    "plt.ylim([0, 1])\n",
    "plt.ylabel('True Positive Rate')\n",
    "plt.xlabel('False Positive Rate')\n",
    "plt.show()"
   ]
  },
  {
   "cell_type": "code",
   "execution_count": null,
   "id": "56db8d31",
   "metadata": {},
   "outputs": [],
   "source": [
    "# Gráfico curva ROC XGBoost\n",
    "\n",
    "fpr, tpr, threshold = metrics.roc_curve(Y_test_dummy, Y_pred_xgb_dummy)\n",
    "roc_auc = metrics.auc(fpr, tpr)\n",
    "\n",
    "plt.title('ROC - XGB - Dummy')\n",
    "plt.plot(fpr, tpr, 'b', label = 'AUC = %0.2f' % roc_auc)\n",
    "plt.legend(loc = 'lower right')\n",
    "plt.plot([0, 1], [0, 1],'r--')\n",
    "plt.xlim([0, 1])\n",
    "plt.ylim([0, 1])\n",
    "plt.ylabel('True Positive Rate')\n",
    "plt.xlabel('False Positive Rate')\n",
    "plt.show()\n",
    "\n",
    "fpr, tpr, threshold = metrics.roc_curve(Y_test_le, Y_pred_xgb_le)\n",
    "roc_auc = metrics.auc(fpr, tpr)\n",
    "\n",
    "plt.title('ROC - XGB - Label Encoding')\n",
    "plt.plot(fpr, tpr, 'b', label = 'AUC = %0.2f' % roc_auc)\n",
    "plt.legend(loc = 'lower right')\n",
    "plt.plot([0, 1], [0, 1],'r--')\n",
    "plt.xlim([0, 1])\n",
    "plt.ylim([0, 1])\n",
    "plt.ylabel('True Positive Rate')\n",
    "plt.xlabel('False Positive Rate')\n",
    "plt.show()\n",
    "\n",
    "fpr, tpr, threshold = metrics.roc_curve(Y_test_pca_dummy, Y_pred_xgb_pca_dummy)\n",
    "roc_auc = metrics.auc(fpr, tpr)\n",
    "\n",
    "plt.title('ROC - XGB - PCA - Dummy')\n",
    "plt.plot(fpr, tpr, 'b', label = 'AUC = %0.2f' % roc_auc)\n",
    "plt.legend(loc = 'lower right')\n",
    "plt.plot([0, 1], [0, 1],'r--')\n",
    "plt.xlim([0, 1])\n",
    "plt.ylim([0, 1])\n",
    "plt.ylabel('True Positive Rate')\n",
    "plt.xlabel('False Positive Rate')\n",
    "plt.show()\n",
    "\n",
    "fpr, tpr, threshold = metrics.roc_curve(Y_test_pca_le, Y_pred_xgb_pca_le)\n",
    "roc_auc = metrics.auc(fpr, tpr)\n",
    "\n",
    "plt.title('ROC - XGB - PCA - Label Encoding')\n",
    "plt.plot(fpr, tpr, 'b', label = 'AUC = %0.2f' % roc_auc)\n",
    "plt.legend(loc = 'lower right')\n",
    "plt.plot([0, 1], [0, 1],'r--')\n",
    "plt.xlim([0, 1])\n",
    "plt.ylim([0, 1])\n",
    "plt.ylabel('True Positive Rate')\n",
    "plt.xlabel('False Positive Rate')\n",
    "plt.show()"
   ]
  }
 ],
 "metadata": {
  "kernelspec": {
   "display_name": "Python 3 (ipykernel)",
   "language": "python",
   "name": "python3"
  },
  "language_info": {
   "codemirror_mode": {
    "name": "ipython",
    "version": 3
   },
   "file_extension": ".py",
   "mimetype": "text/x-python",
   "name": "python",
   "nbconvert_exporter": "python",
   "pygments_lexer": "ipython3",
   "version": "3.9.12"
  }
 },
 "nbformat": 4,
 "nbformat_minor": 5
}
